{
 "cells": [
  {
   "attachments": {},
   "cell_type": "markdown",
   "metadata": {},
   "source": [
    "Table des matières\n",
    "Objectif de la recette\n",
    "Configuration requise :\n",
    "\n",
    "* Étape 2 : Importez le fichier CSV dans le DataFrame.\n",
    "* Étape 3 : Connectez-vous à MySQL en utilisant Python et créez une base de données\n",
    "* Étape 4 : Créer une table et importer les données CSV dans la table MySQL\n",
    "* Créer le trigger \n",
    "* Étape 5 : Interroger la table"
   ]
  },
  {
   "attachments": {},
   "cell_type": "markdown",
   "metadata": {},
   "source": [
    "installez \"Connecteur MySQL\":\n",
    "\n",
    "C'est quoi un trigger en SQL ?\n",
    "Dans MySQL, un trigger (ou déclencheur) est une commande SQL définie par l'utilisateur qui est automatiquement invoquée lors d'une opération INSERT , DELETE ou UPDATE \n",
    "en utilisant les 2 bibliothèques Python suivantes :\n",
    "\n",
    "Pandas - utilisé pour importer le fichier CSV dans Python et créer un DataFrame\n",
    "Pyodbc - utilisé pour connecter Python à SQL Server\n",
    "\n",
    "\n",
    "Étape 2 : Importer le fichier CSV dans un DataFrame\n",
    "\n",
    "Étape 3 : Connectez Python à SQL Server\n",
    "Pour connecter Python au serveur SQL, vous aurez besoin de :\n",
    "\n",
    "Nom du serveur \n",
    "\n",
    "Nom de la base de données \n",
    "\n",
    "Étape 3 : Connectez-vous à MySQL en utilisant Python et créez une base de données\n",
    "Créez un objet de connexion pour vous connecter à MySQL. \n",
    "\n",
    "Le constructeur connect() crée une connexion à MySQL et renvoie un objet MySQLConnection.\n",
    "\n",
    "Étape 4 : créer une table dans MySQL  à l'aide de Python\n",
    "Étape 4 : importer les données CSV dans la table MySQL\n",
    "\n",
    "package python: \n",
    "- pandas\n",
    "- mysql-connector-python \n",
    "En Python, nous pouvons utiliser les modules suivants pour communiquer avec MySQL.\n",
    "\n",
    "1- Installer le module de connecteur MySQL\n",
    "Utilisez la commande pip pour installer le connecteur MySQL Python .\n",
    "pip install mysql-connector-python\n",
    "2- Module de connecteur d'importation MySQL\n",
    "Importez à l'aide d'une import mysql.connectorinstruction afin que vous puissiez utiliser les méthodes de ce module pour communiquer avec la base de données MySQL\n",
    "3- Utilisez la méthode connect()\n",
    "Utilisez la connect()méthode de la classe MySQL Connector avec les arguments requis pour connecter MySQL. Il renverrait un MySQLConnectionobjet si la connexion était établie avec succès\n",
    "\n",
    "4- Utilisez la méthode curseur()\n",
    "Utilisez la méthode curseur() d'un MySQLConnectionobjet pour créer un objet curseur afin d'effectuer diverses opérations SQL.\n",
    "\n",
    "5-Utilisez la méthode execute()\n",
    "Les méthodes execute() exécutent la requête SQL et renvoient le résultat.\n",
    "\n",
    "6- Extraire le résultat en utilisant fetchall()\n",
    "Utilisez cursor.fetchall()ou fetchone()ou fetchmany()pour lire le résultat de la requête.\n",
    "\n",
    "7- Fermer le curseur et les objets de connexion\n",
    "utilisation cursor.clsoe()et connection.clsoe()méthode pour fermer les connexions ouvertes une fois votre travail terminé\n",
    "\n",
    "Interceptez les exceptions qui peuvent se produire au cours de ce processus en important la classe Error depuis le module de connecteur MySQL à l'aide d'une from mysql.connector import Errorinstruction.\n",
    "\n",
    "Accueil » Python » Bases de données » Connexion à la base de données Python MySQL à l'aide du connecteur MySQL\n",
    "\n",
    "\n",
    "Dans cette leçon, vous apprendrez à connecter la base de données MySQL en Python à l'aide du module ' MySQL Connector Python '. \n",
    "\n",
    "En Python, nous pouvons utiliser les modules suivants pour communiquer avec MySQL.\n",
    "\n",
    "MySQL Connector Python\n",
    "\n",
    "\n",
    "AD\n",
    "Table des matières\n",
    "Comment connecter la base de données MySQL en Python\n",
    "\n",
    "Créer une table MySQL à partir de Python\n",
    "Opération Python MySQL CRUD\n",
    "\n",
    "Installer le module de connecteur MySQL\n",
    "Utilisez la commande pip pour installer le connecteur MySQL Python .\n",
    "pip install mysql-connector-python\n",
    "\n",
    "Module de connecteur d'importation MySQL\n",
    "Importez à l'aide d'une import mysql.connectorinstruction afin que vous puissiez utiliser les méthodes de ce module pour communiquer avec la base de données MySQL.\n",
    "\n",
    "Utilisez la méthode connect()\n",
    "Utilisez la connect()méthode de la classe MySQL Connector avec les arguments requis pour connecter MySQL. Il renverrait un MySQLConnectionobjet si la connexion était établie avec succès\n",
    "\n",
    "Utilisez la méthode curseur()\n",
    "Utilisez la méthode curseur() d'un MySQLConnectionobjet pour créer un objet curseur afin d'effectuer diverses opérations SQL.\n",
    "\n",
    "Utilisez la méthode execute()\n",
    "Les méthodes execute() exécutent la requête SQL et renvoient le résultat.\n",
    "\n",
    "Extraire le résultat en utilisant fetchall()\n",
    "Utilisez cursor.fetchall()ou fetchone()ou fetchmany()pour lire le résultat de la requête.\n",
    "\n",
    "Fermer le curseur et les objets de connexion\n",
    "utilisation cursor.clsoe()et connection.clsoe()méthode pour fermer les connexions ouvertes une fois votre travail terminé\n",
    "\n",
    "\n",
    "\n",
    "Créer une base de données dans MySQL\n",
    "\n",
    "\n",
    "\n",
    "order creer foreign key\n",
    "La clé étrangère est utilisée pour lier une ou plusieurs tables ensemble. Elle est également connue sous le nom de clé de référencement . Une clé étrangère correspond au champ de clé primaire d'une autre table. Cela signifie qu'un champ de clé étrangère dans une table fait référence au champ de clé primaire de l'autre table. Il identifie chaque ligne d'une autre table de manière unique qui maintient l' intégrité référentielle dans MySQL.\n",
    "CASCADE : Il est utilisé lorsque nous supprimons ou mettons à jour une ligne de la table parent, les valeurs des lignes correspondantes dans la table enfant seront supprimées ou mises à jour automatiquement.\n",
    " CONSTRAINT `agent_id` FOREIGN KEY (`agent_id`) REFERENCES `agent` (`agent_id`) ON DELETE CASCADE ON UPDATE CASCADE,"
   ]
  },
  {
   "attachments": {},
   "cell_type": "markdown",
   "metadata": {},
   "source": [
    "SELECT CONCAT_WS(\"-\",'WH', warehouse_id) as warehouse_id,location  FROM compagny_data.warehouse"
   ]
  },
  {
   "attachments": {},
   "cell_type": "markdown",
   "metadata": {},
   "source": [
    "![](diag.png)"
   ]
  },
  {
   "cell_type": "markdown",
   "metadata": {},
   "source": []
  },
  {
   "attachments": {},
   "cell_type": "markdown",
   "metadata": {},
   "source": [
    "# Creation de la table orders et insertion de données faire les relations entre les tables.\n",
    "### Introduction\n",
    "Dans ce notebook nous allons suivrent les étapes suivantes:\n",
    "* [Chapter 1](#chapter1)\n",
    "- Importer pandas\n",
    "- Ouvrir les données\n",
    "3. [Calculer quelques indicateurs statistiques](#4.-Afficher-les-données-relative-au-dataset)\n",
    "1. Créer la dernière table order dans ma Mysql workbench en utilisant python\n",
    "- Inserer les données et\n",
    "- [Creation du trigger BEFORE INSERT](#-Creation-du-trigger-BEFORE-INSERT)\n",
    "\n",
    "Using AUTO_INCREMENT\n",
    "The AUTO_INCREMENT attribute can be used to generate a unique identity for new rows:"
   ]
  },
  {
   "cell_type": "markdown",
   "metadata": {},
   "source": [
    "### Pour aller plus loin \n",
    "Pour accéder aux différents notebook cliquez ici [lien](wwwww)\n",
    "\n",
    "![Gitup](data:image/png;base64,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)"
   ]
  },
  {
   "attachments": {},
   "cell_type": "markdown",
   "metadata": {},
   "source": [
    "### Importez le fichier CSV dans le DataFrame."
   ]
  },
  {
   "cell_type": "code",
   "execution_count": 21,
   "metadata": {},
   "outputs": [
    {
     "data": {
      "text/html": [
       "<div>\n",
       "<style scoped>\n",
       "    .dataframe tbody tr th:only-of-type {\n",
       "        vertical-align: middle;\n",
       "    }\n",
       "\n",
       "    .dataframe tbody tr th {\n",
       "        vertical-align: top;\n",
       "    }\n",
       "\n",
       "    .dataframe thead th {\n",
       "        text-align: right;\n",
       "    }\n",
       "</style>\n",
       "<table border=\"1\" class=\"dataframe\">\n",
       "  <thead>\n",
       "    <tr style=\"text-align: right;\">\n",
       "      <th></th>\n",
       "      <th>warehouse_id</th>\n",
       "      <th>location</th>\n",
       "    </tr>\n",
       "  </thead>\n",
       "  <tbody>\n",
       "    <tr>\n",
       "      <th>0</th>\n",
       "      <td>WH-001</td>\n",
       "      <td>California</td>\n",
       "    </tr>\n",
       "    <tr>\n",
       "      <th>1</th>\n",
       "      <td>WH-002</td>\n",
       "      <td>Georgia</td>\n",
       "    </tr>\n",
       "    <tr>\n",
       "      <th>2</th>\n",
       "      <td>WH-003</td>\n",
       "      <td>New York</td>\n",
       "    </tr>\n",
       "    <tr>\n",
       "      <th>3</th>\n",
       "      <td>WH-004</td>\n",
       "      <td>Illinois</td>\n",
       "    </tr>\n",
       "  </tbody>\n",
       "</table>\n",
       "</div>"
      ],
      "text/plain": [
       "  warehouse_id    location\n",
       "0       WH-001  California\n",
       "1       WH-002     Georgia\n",
       "2       WH-003    New York\n",
       "3       WH-004    Illinois"
      ]
     },
     "execution_count": 21,
     "metadata": {},
     "output_type": "execute_result"
    }
   ],
   "source": [
    "import pandas as pd\n",
    "\n",
    "\n",
    "df=pd.read_csv('warehouse.csv', sep=';')\n",
    "df.rename(columns={\"Code\":\"code\",\"Warehouse Code\": \"warehouse_id\",\"Warehouse Location\":\"location\"}, inplace=True)\n",
    "df"
   ]
  },
  {
   "attachments": {},
   "cell_type": "markdown",
   "metadata": {},
   "source": [
    "### Extration id"
   ]
  },
  {
   "cell_type": "code",
   "execution_count": 26,
   "metadata": {},
   "outputs": [
    {
     "data": {
      "text/html": [
       "<div>\n",
       "<style scoped>\n",
       "    .dataframe tbody tr th:only-of-type {\n",
       "        vertical-align: middle;\n",
       "    }\n",
       "\n",
       "    .dataframe tbody tr th {\n",
       "        vertical-align: top;\n",
       "    }\n",
       "\n",
       "    .dataframe thead th {\n",
       "        text-align: right;\n",
       "    }\n",
       "</style>\n",
       "<table border=\"1\" class=\"dataframe\">\n",
       "  <thead>\n",
       "    <tr style=\"text-align: right;\">\n",
       "      <th></th>\n",
       "      <th>warehouse_id</th>\n",
       "      <th>location</th>\n",
       "      <th>prefix</th>\n",
       "      <th>code</th>\n",
       "    </tr>\n",
       "  </thead>\n",
       "  <tbody>\n",
       "    <tr>\n",
       "      <th>0</th>\n",
       "      <td>WH-001</td>\n",
       "      <td>California</td>\n",
       "      <td>WH</td>\n",
       "      <td>001</td>\n",
       "    </tr>\n",
       "    <tr>\n",
       "      <th>1</th>\n",
       "      <td>WH-002</td>\n",
       "      <td>Georgia</td>\n",
       "      <td>WH</td>\n",
       "      <td>002</td>\n",
       "    </tr>\n",
       "    <tr>\n",
       "      <th>2</th>\n",
       "      <td>WH-003</td>\n",
       "      <td>New York</td>\n",
       "      <td>WH</td>\n",
       "      <td>003</td>\n",
       "    </tr>\n",
       "    <tr>\n",
       "      <th>3</th>\n",
       "      <td>WH-004</td>\n",
       "      <td>Illinois</td>\n",
       "      <td>WH</td>\n",
       "      <td>004</td>\n",
       "    </tr>\n",
       "  </tbody>\n",
       "</table>\n",
       "</div>"
      ],
      "text/plain": [
       "  warehouse_id    location prefix code\n",
       "0       WH-001  California     WH  001\n",
       "1       WH-002     Georgia     WH  002\n",
       "2       WH-003    New York     WH  003\n",
       "3       WH-004    Illinois     WH  004"
      ]
     },
     "execution_count": 26,
     "metadata": {},
     "output_type": "execute_result"
    }
   ],
   "source": [
    "df1=pd.read_csv('warehouse.csv', sep=';')\n",
    "df1.rename(columns={\"Code\":\"code\",\"Warehouse Code\": \"warehouse_id\",\"Warehouse Location\":\"location\"}, inplace=True)\n",
    "df1[['prefix','code']] = df1['warehouse_id'].str.split('-',expand=True)\n",
    "df1"
   ]
  },
  {
   "cell_type": "code",
   "execution_count": 25,
   "metadata": {},
   "outputs": [
    {
     "data": {
      "text/html": [
       "<div>\n",
       "<style scoped>\n",
       "    .dataframe tbody tr th:only-of-type {\n",
       "        vertical-align: middle;\n",
       "    }\n",
       "\n",
       "    .dataframe tbody tr th {\n",
       "        vertical-align: top;\n",
       "    }\n",
       "\n",
       "    .dataframe thead th {\n",
       "        text-align: right;\n",
       "    }\n",
       "</style>\n",
       "<table border=\"1\" class=\"dataframe\">\n",
       "  <thead>\n",
       "    <tr style=\"text-align: right;\">\n",
       "      <th></th>\n",
       "      <th>code</th>\n",
       "    </tr>\n",
       "  </thead>\n",
       "  <tbody>\n",
       "    <tr>\n",
       "      <th>0</th>\n",
       "      <td>001</td>\n",
       "    </tr>\n",
       "    <tr>\n",
       "      <th>1</th>\n",
       "      <td>002</td>\n",
       "    </tr>\n",
       "    <tr>\n",
       "      <th>2</th>\n",
       "      <td>003</td>\n",
       "    </tr>\n",
       "    <tr>\n",
       "      <th>3</th>\n",
       "      <td>004</td>\n",
       "    </tr>\n",
       "  </tbody>\n",
       "</table>\n",
       "</div>"
      ],
      "text/plain": [
       "  code\n",
       "0  001\n",
       "1  002\n",
       "2  003\n",
       "3  004"
      ]
     },
     "execution_count": 25,
     "metadata": {},
     "output_type": "execute_result"
    }
   ],
   "source": [
    "df1= pd.DataFrame(df1['code'])\n",
    "df1"
   ]
  },
  {
   "attachments": {},
   "cell_type": "markdown",
   "metadata": {},
   "source": [
    "### Étape 3 : Connectez-vous à MySQL en utilisant Python et créez une base de données\n",
    "Créez un objet de connexion pour vous connecter à MySQL. Le constructeur connect() crée une connexion à MySQL et renvoie un objet MySQLConnection."
   ]
  },
  {
   "cell_type": "code",
   "execution_count": null,
   "metadata": {},
   "outputs": [],
   "source": [
    "pip install mysql-connector-python"
   ]
  },
  {
   "attachments": {},
   "cell_type": "markdown",
   "metadata": {},
   "source": [
    "# Creation de la base de données 'compagny_data'\n"
   ]
  },
  {
   "attachments": {},
   "cell_type": "markdown",
   "metadata": {},
   "source": [
    "Créer une connexion\n",
    "Commencez par créer une connexion à la base de données.\n",
    "\n",
    "Utilisez le nom d'utilisateur et le mot de passe de votre base de données MySQL :\n",
    "Étape 3 : Connectez-vous à MySQL en utilisant Python et créez une base de données\n",
    "Créez un objet de connexion pour vous connecter à MySQL. Le constructeur connect() crée une connexion à MySQL et renvoie un objet MySQLConnection."
   ]
  },
  {
   "cell_type": "code",
   "execution_count": null,
   "metadata": {},
   "outputs": [],
   "source": [
    "import mysql.connector as msql\n",
    "from mysql.connector import Error\n",
    "try:\n",
    "    conn = msql.connect(host='localhost', user='root',  \n",
    "                        password='Shiva2370@')#give ur username, password\n",
    "    if conn.is_connected():\n",
    "        cursor = conn.cursor()\n",
    "        cursor.execute(\"CREATE DATABASE compagny_data\")\n",
    "        print(\"Database is created\")\n",
    "except Error as e:\n",
    "    print(\"Error while connecting to MySQL\", e)\n",
    "finally:\n",
    "    if conn.is_connected():\n",
    "        cursor.close()\n",
    "        conn.close()\n",
    "        print(\"MySQL connection is closed\")"
   ]
  },
  {
   "attachments": {},
   "cell_type": "markdown",
   "metadata": {},
   "source": [
    "### Étape 4 : Créer une table et importer les données CSV dans la table MySQL\n",
    "\n",
    "Nous allons créer une table employee_data sous la base de données des employés et insérer les enregistrements dans MySQL avec le code python ci-dessous."
   ]
  },
  {
   "attachments": {},
   "cell_type": "markdown",
   "metadata": {},
   "source": [
    "creer les deux tables, inserer données dans chaque table, creer le trigger"
   ]
  },
  {
   "attachments": {},
   "cell_type": "markdown",
   "metadata": {},
   "source": [
    "TRIGGER"
   ]
  },
  {
   "cell_type": "code",
   "execution_count": 23,
   "metadata": {},
   "outputs": [
    {
     "name": "stdout",
     "output_type": "stream",
     "text": [
      "You're connected to database:  ('compagny_data',)\n",
      "Creating table....\n",
      "Table warehouse is created....\n",
      "Table is created....\n",
      "Record inserted\n",
      "Record inserted\n",
      "Record inserted\n",
      "Record inserted\n",
      "Record inserted\n",
      "Record inserted\n",
      "Record inserted\n",
      "Record inserted\n"
     ]
    }
   ],
   "source": [
    "import mysql.connector as msql\n",
    "from mysql.connector import Error\n",
    "try:\n",
    "    conn = msql.connect(host='localhost', database='compagny_data', user='root', password='Shiva2370@')\n",
    "    if conn.is_connected():\n",
    "        cursor = conn.cursor()\n",
    "        cursor.execute(\"select database();\")\n",
    "        record = cursor.fetchone()\n",
    "        print(\"You're connected to database: \", record)\n",
    "        cursor.execute('DROP TABLE IF EXISTS warehouse;')\n",
    "        print('Creating table....')\n",
    "# in the below line please pass the create table statement which you want #to create\n",
    "        cursor.execute(\"CREATE TABLE warehouse( warehouse_id VARCHAR(100) NOT NULL PRIMARY KEY DEFAULT '0', location VARCHAR(30))\")\n",
    "    \n",
    "        print(\"Table warehouse is created....\")\n",
    "        #loop through the data frame\n",
    "        cursor.execute(\"CREATE TABLE warehouse_seq(id INT NOT NULL AUTO_INCREMENT PRIMARY KEY)\")\n",
    "    \n",
    "        print(\"Table is created....\")\n",
    "        \n",
    "        for i,row in df.iterrows():\n",
    "            #here %S means string values \n",
    "            sql = \"INSERT INTO compagny_data.warehouse VALUES (%s,%s)\"\n",
    "            cursor.execute(sql, tuple(row))\n",
    "            print(\"Record inserted\")\n",
    "            # the connection is not auto committed by default, so we must commit to save our changes\n",
    "            conn.commit()\n",
    "        for i,row in df1.iterrows():\n",
    "            #here %S means string values \n",
    "            sql = \"INSERT INTO compagny_data.warehouse_seq VALUES (%s)\"\n",
    "            cursor.execute(sql, tuple(row))\n",
    "            print(\"Record inserted\")\n",
    "            # the connection is not auto committed by default, so we must commit to save our changes\n",
    "            conn.commit()\n",
    "        \n",
    "except Error as e:\n",
    "            print(\"Error while connecting to MySQL\", e)"
   ]
  },
  {
   "attachments": {},
   "cell_type": "markdown",
   "metadata": {},
   "source": [
    "![Alt text](table_warehouse.png)"
   ]
  },
  {
   "attachments": {},
   "cell_type": "markdown",
   "metadata": {},
   "source": [
    "## Creation du trigger\n"
   ]
  },
  {
   "cell_type": "code",
   "execution_count": 12,
   "metadata": {},
   "outputs": [
    {
     "name": "stdout",
     "output_type": "stream",
     "text": [
      "You're connected to database:  ('compagny_data',)\n",
      "Trigger is created....\n"
     ]
    }
   ],
   "source": [
    "#trigger\n",
    "import mysql.connector as msql\n",
    "from mysql.connector import Error\n",
    "conn = msql.connect(host='localhost', database='compagny_data', user='root', password='Shiva2370@')\n",
    "if conn.is_connected():\n",
    "    cursor = conn.cursor()\n",
    "    cursor.execute(\"select database();\")\n",
    "    record = cursor.fetchone()\n",
    "    print(\"You're connected to database: \", record)\n",
    "cursor.execute(\"CREATE TRIGGER tg_warehouse_insert_id BEFORE INSERT ON warehouse FOR EACH ROW BEGIN INSERT INTO warehouse_seq VALUES (NULL); SET NEW.warehouse_id = CONCAT_WS('-','WH', LPAD(LAST_INSERT_ID(), 3, '0')); END\")\n",
    "    \n",
    "print(\"Trigger is created....\")"
   ]
  },
  {
   "attachments": {},
   "cell_type": "markdown",
   "metadata": {},
   "source": [
    "![Alt text](trigger_warehouse.png)"
   ]
  },
  {
   "attachments": {},
   "cell_type": "markdown",
   "metadata": {},
   "source": [
    "Étape 5 : Interroger la table\n",
    "Interrogez la table pour vous assurer que nos données insérées ont été enregistrées correctement.\n",
    "Verifie si trigger fonctionne en inserant nouvelle valeur\n",
    "commande INSERT INTO"
   ]
  },
  {
   "attachments": {},
   "cell_type": "markdown",
   "metadata": {},
   "source": [
    "### Verifie si le trigger fonctionne en inserant nouvelle valeur avec commande INSERT INTO"
   ]
  },
  {
   "attachments": {},
   "cell_type": "markdown",
   "metadata": {},
   "source": [
    "Before insert"
   ]
  },
  {
   "cell_type": "code",
   "execution_count": 33,
   "metadata": {},
   "outputs": [
    {
     "name": "stdout",
     "output_type": "stream",
     "text": [
      "('WH-001', 'California')\n",
      "('WH-002', 'Georgia')\n",
      "('WH-003', 'New York')\n",
      "('WH-004', 'Illinois')\n"
     ]
    }
   ],
   "source": [
    "import mysql.connector as msql\n",
    "from mysql.connector import Error\n",
    "conn = msql.connect(host='localhost', database='compagny_data', user='root', password='Shiva2370@')\n",
    "if conn.is_connected():\n",
    "    cursor = conn.cursor()\n",
    "    cursor.execute(\"select database();\")\n",
    "    record = cursor.fetchone()\n",
    "    \n",
    "# Execute query\n",
    "sql = \"SELECT * FROM compagny_data.warehouse\"\n",
    "cursor.execute(sql)\n",
    "# Fetch all the records\n",
    "result = cursor.fetchall()\n",
    "for i in result:\n",
    "    print(i)"
   ]
  },
  {
   "attachments": {},
   "cell_type": "markdown",
   "metadata": {},
   "source": [
    "\n",
    "![Alt text](Capture%20d%E2%80%99%C3%A9cran%20(104).png)"
   ]
  },
  {
   "attachments": {},
   "cell_type": "markdown",
   "metadata": {},
   "source": [
    "Insert into"
   ]
  },
  {
   "cell_type": "code",
   "execution_count": 7,
   "metadata": {},
   "outputs": [
    {
     "name": "stdout",
     "output_type": "stream",
     "text": [
      "1 record inserted.\n"
     ]
    }
   ],
   "source": [
    "import mysql.connector\n",
    "\n",
    "mydb = mysql.connector.connect(\n",
    "  host=\"localhost\",\n",
    "  user=\"root\",\n",
    "  password=\"Shiva2370@\",\n",
    "  database='compagny_data'\n",
    ")\n",
    "\n",
    "mycursor = mydb.cursor()\n",
    "\n",
    "sql = \"INSERT INTO warehouse (location) VALUES ('France')\"\n",
    "\n",
    "\n",
    "mycursor.execute(sql)\n",
    "\n",
    "mydb.commit()\n",
    "\n",
    "print(mycursor.rowcount, \"record inserted.\")"
   ]
  },
  {
   "attachments": {},
   "cell_type": "markdown",
   "metadata": {},
   "source": [
    "Interroger la table pour voir si warehouse_id a bien été incrementé"
   ]
  },
  {
   "cell_type": "code",
   "execution_count": 30,
   "metadata": {},
   "outputs": [
    {
     "name": "stdout",
     "output_type": "stream",
     "text": [
      "You're connected to database:  ('compagny_data',)\n",
      "('WH-001', 'California')\n",
      "('WH-002', 'Georgia')\n",
      "('WH-003', 'New York')\n",
      "('WH-004', 'Illinois')\n",
      "('WH-005', 'France')\n"
     ]
    }
   ],
   "source": [
    "import mysql.connector as msql\n",
    "from mysql.connector import Error\n",
    "conn = msql.connect(host='localhost', database='compagny_data', user='root', password='Shiva2370@')\n",
    "if conn.is_connected():\n",
    "    cursor = conn.cursor()\n",
    "    cursor.execute(\"select database();\")\n",
    "    record = cursor.fetchone()\n",
    "    print(\"You're connected to database: \", record)\n",
    "# Execute query\n",
    "sql = \"SELECT * FROM compagny_data.warehouse\"\n",
    "cursor.execute(sql)\n",
    "# Fetch all the records\n",
    "result = cursor.fetchall()\n",
    "for i in result:\n",
    "    print(i)"
   ]
  },
  {
   "attachments": {},
   "cell_type": "markdown",
   "metadata": {},
   "source": [
    "![Alt text](warehouse1.png)\n",
    "\n",
    "warehouse_id a été incrementé"
   ]
  },
  {
   "attachments": {},
   "cell_type": "markdown",
   "metadata": {},
   "source": [
    "## Customer"
   ]
  },
  {
   "cell_type": "code",
   "execution_count": null,
   "metadata": {},
   "outputs": [],
   "source": [
    "import pandas as pd\n",
    "\n",
    "\n",
    "df=pd.read_csv('customer_faker.csv', sep=';')\n",
    "#df.rename(columns={\"Code\":\"code\",\"Warehouse Code\": \"warehouse_id\",\"Warehouse Location\":\"location\"}, inplace=True)\n",
    "df.head()"
   ]
  },
  {
   "cell_type": "code",
   "execution_count": null,
   "metadata": {},
   "outputs": [],
   "source": [
    "df1=pd.read_csv('customer_faker.csv', sep=';')\n",
    "\n",
    "df1[['prefix','pref','code']] = df1['customer_no'].str.split('-',expand=True)\n",
    "df1.head()"
   ]
  },
  {
   "cell_type": "code",
   "execution_count": null,
   "metadata": {},
   "outputs": [
    {
     "data": {
      "text/html": [
       "<div>\n",
       "<style scoped>\n",
       "    .dataframe tbody tr th:only-of-type {\n",
       "        vertical-align: middle;\n",
       "    }\n",
       "\n",
       "    .dataframe tbody tr th {\n",
       "        vertical-align: top;\n",
       "    }\n",
       "\n",
       "    .dataframe thead th {\n",
       "        text-align: right;\n",
       "    }\n",
       "</style>\n",
       "<table border=\"1\" class=\"dataframe\">\n",
       "  <thead>\n",
       "    <tr style=\"text-align: right;\">\n",
       "      <th></th>\n",
       "      <th>code</th>\n",
       "    </tr>\n",
       "  </thead>\n",
       "  <tbody>\n",
       "    <tr>\n",
       "      <th>0</th>\n",
       "      <td>1248</td>\n",
       "    </tr>\n",
       "    <tr>\n",
       "      <th>1</th>\n",
       "      <td>1249</td>\n",
       "    </tr>\n",
       "    <tr>\n",
       "      <th>2</th>\n",
       "      <td>1250</td>\n",
       "    </tr>\n",
       "    <tr>\n",
       "      <th>3</th>\n",
       "      <td>1251</td>\n",
       "    </tr>\n",
       "    <tr>\n",
       "      <th>4</th>\n",
       "      <td>1252</td>\n",
       "    </tr>\n",
       "    <tr>\n",
       "      <th>...</th>\n",
       "      <td>...</td>\n",
       "    </tr>\n",
       "    <tr>\n",
       "      <th>1760</th>\n",
       "      <td>3008</td>\n",
       "    </tr>\n",
       "    <tr>\n",
       "      <th>1761</th>\n",
       "      <td>3009</td>\n",
       "    </tr>\n",
       "    <tr>\n",
       "      <th>1762</th>\n",
       "      <td>3010</td>\n",
       "    </tr>\n",
       "    <tr>\n",
       "      <th>1763</th>\n",
       "      <td>3011</td>\n",
       "    </tr>\n",
       "    <tr>\n",
       "      <th>1764</th>\n",
       "      <td>3012</td>\n",
       "    </tr>\n",
       "  </tbody>\n",
       "</table>\n",
       "<p>1765 rows × 1 columns</p>\n",
       "</div>"
      ],
      "text/plain": [
       "      code\n",
       "0     1248\n",
       "1     1249\n",
       "2     1250\n",
       "3     1251\n",
       "4     1252\n",
       "...    ...\n",
       "1760  3008\n",
       "1761  3009\n",
       "1762  3010\n",
       "1763  3011\n",
       "1764  3012\n",
       "\n",
       "[1765 rows x 1 columns]"
      ]
     },
     "metadata": {},
     "output_type": "display_data"
    }
   ],
   "source": [
    "df1= pd.DataFrame(df1['code'])\n",
    "df1"
   ]
  },
  {
   "cell_type": "markdown",
   "metadata": {},
   "source": [
    "![Alt text](table_customer.png)"
   ]
  },
  {
   "cell_type": "code",
   "execution_count": null,
   "metadata": {},
   "outputs": [
    {
     "name": "stdout",
     "output_type": "stream",
     "text": [
      "You're connected to database:  ('compagny_data',)\n",
      "Creating table....\n",
      "Table is created....\n",
      "Record inserted....\n",
      "Table customer_seq is created....\n",
      "Record inserted\n"
     ]
    }
   ],
   "source": [
    "import mysql.connector as msql\n",
    "from mysql.connector import Error\n",
    "try:\n",
    "    conn = msql.connect(host='localhost', database='compagny_data', user='root', password='Shiva2370@')\n",
    "    if conn.is_connected():\n",
    "        cursor = conn.cursor()\n",
    "        cursor.execute(\"select database();\")\n",
    "        record = cursor.fetchone()\n",
    "        print(\"You're connected to database: \", record)\n",
    "        cursor.execute('DROP TABLE IF EXISTS customer;')\n",
    "        print('Creating table....')\n",
    "# in the below line please pass the create table statement which you want #to create\n",
    "        cursor.execute(\"CREATE TABLE customer( customer_id VARCHAR(100) NOT NULL PRIMARY KEY DEFAULT '0', country varchar(255), state VARCHAR(30), firstName varchar(255), lastName varchar(255), address varchar(255), phone VARCHAR(50), email varchar(50),birhtdate DATE)\")\n",
    "    \n",
    "        print(\"Table is created....\")\n",
    "        for i,row in df.iterrows():\n",
    "            #here %S means string values \n",
    "            sql = \"INSERT INTO compagny_data.customer VALUES (%s,%s,%s,%s,%s,%s,%s,%s,%s)\"\n",
    "            cursor.execute(sql, tuple(row))\n",
    "            \n",
    "            # the connection is not auto committed by default, so we must commit to save our changes\n",
    "            conn.commit()\n",
    "        print('Record inserted....')    \n",
    "        #loop through the data frame\n",
    "        cursor.execute(\"CREATE TABLE customer_seq(id INT NOT NULL AUTO_INCREMENT PRIMARY KEY)\")\n",
    "    \n",
    "        print(\"Table customer_seq is created....\")\n",
    "        for i,row in df1.iterrows():\n",
    "            #here %S means string values \n",
    "            sql = \"INSERT INTO compagny_data.customer_seq VALUES (%s)\"\n",
    "            cursor.execute(sql, tuple(row))\n",
    "            # the connection is not auto committed by default, so we must commit to save our changes\n",
    "            conn.commit()\n",
    "        print(\"Record inserted\")\n",
    "        \n",
    "except Error as e:\n",
    "            print(\"Error while connecting to MySQL\", e)\n",
    "\n",
    "\n",
    "#created:update"
   ]
  },
  {
   "cell_type": "markdown",
   "metadata": {},
   "source": [
    "## Creation du trigger\n"
   ]
  },
  {
   "cell_type": "markdown",
   "metadata": {},
   "source": [
    "![Alt text](trigger_customer.png)"
   ]
  },
  {
   "cell_type": "code",
   "execution_count": null,
   "metadata": {},
   "outputs": [
    {
     "name": "stdout",
     "output_type": "stream",
     "text": [
      "You're connected to database:  ('compagny_data',)\n",
      "Trigger tg_customer_insert_id is created....\n"
     ]
    }
   ],
   "source": [
    "#trigger\n",
    "import mysql.connector as msql\n",
    "from mysql.connector import Error\n",
    "conn = msql.connect(host='localhost', database='compagny_data', user='root', password='Shiva2370@')\n",
    "if conn.is_connected():\n",
    "    cursor = conn.cursor()\n",
    "    cursor.execute(\"select database();\")\n",
    "    record = cursor.fetchone()\n",
    "    print(\"You're connected to database: \", record)\n",
    "cursor.execute(\"CREATE TRIGGER tg_customer_insert_id BEFORE INSERT ON customer FOR EACH ROW BEGIN INSERT INTO customer_seq VALUES (NULL); SET NEW.customer_id = CONCAT_WS('-','CU', '001',LAST_INSERT_ID()); END\")\n",
    "    \n",
    "print(\"Trigger tg_customer_insert_id is created....\")\n",
    "\n"
   ]
  },
  {
   "cell_type": "markdown",
   "metadata": {},
   "source": [
    "Test incrementation"
   ]
  },
  {
   "cell_type": "markdown",
   "metadata": {},
   "source": [
    "![Alt text](insert.png)"
   ]
  },
  {
   "cell_type": "markdown",
   "metadata": {},
   "source": [
    "### L'autoingrementation de customer id fonctionne\n"
   ]
  },
  {
   "cell_type": "markdown",
   "metadata": {},
   "source": [
    "![Alt text](customeer_insert.png)"
   ]
  },
  {
   "attachments": {},
   "cell_type": "markdown",
   "metadata": {},
   "source": [
    "# Product"
   ]
  },
  {
   "cell_type": "code",
   "execution_count": null,
   "metadata": {},
   "outputs": [
    {
     "data": {
      "text/html": [
       "<div>\n",
       "<style scoped>\n",
       "    .dataframe tbody tr th:only-of-type {\n",
       "        vertical-align: middle;\n",
       "    }\n",
       "\n",
       "    .dataframe tbody tr th {\n",
       "        vertical-align: top;\n",
       "    }\n",
       "\n",
       "    .dataframe thead th {\n",
       "        text-align: right;\n",
       "    }\n",
       "</style>\n",
       "<table border=\"1\" class=\"dataframe\">\n",
       "  <thead>\n",
       "    <tr style=\"text-align: right;\">\n",
       "      <th></th>\n",
       "      <th>Product Code</th>\n",
       "      <th>name</th>\n",
       "      <th>Product Name</th>\n",
       "      <th>Size</th>\n",
       "      <th>Unit Price</th>\n",
       "      <th>UOM</th>\n",
       "    </tr>\n",
       "  </thead>\n",
       "  <tbody>\n",
       "    <tr>\n",
       "      <th>0</th>\n",
       "      <td>PR-143-1082</td>\n",
       "      <td>Adidas Shoe</td>\n",
       "      <td>Adidas Shoe Size 38</td>\n",
       "      <td>38</td>\n",
       "      <td>916</td>\n",
       "      <td>Piece</td>\n",
       "    </tr>\n",
       "    <tr>\n",
       "      <th>1</th>\n",
       "      <td>PR-143-1083</td>\n",
       "      <td>Adidas Shoe</td>\n",
       "      <td>Adidas Shoe Size 39</td>\n",
       "      <td>39</td>\n",
       "      <td>1001</td>\n",
       "      <td>Piece</td>\n",
       "    </tr>\n",
       "    <tr>\n",
       "      <th>2</th>\n",
       "      <td>PR-143-1084</td>\n",
       "      <td>Adidas Shoe</td>\n",
       "      <td>Adidas Shoe Size 40</td>\n",
       "      <td>40</td>\n",
       "      <td>1165</td>\n",
       "      <td>Piece</td>\n",
       "    </tr>\n",
       "    <tr>\n",
       "      <th>3</th>\n",
       "      <td>PR-143-1085</td>\n",
       "      <td>Adidas Shoe</td>\n",
       "      <td>Adidas Shoe Size 41</td>\n",
       "      <td>41</td>\n",
       "      <td>1179</td>\n",
       "      <td>Piece</td>\n",
       "    </tr>\n",
       "    <tr>\n",
       "      <th>4</th>\n",
       "      <td>PR-143-1086</td>\n",
       "      <td>Ballet Shoe</td>\n",
       "      <td>Ballet Shoe Size 38</td>\n",
       "      <td>38</td>\n",
       "      <td>1094</td>\n",
       "      <td>Piece</td>\n",
       "    </tr>\n",
       "    <tr>\n",
       "      <th>...</th>\n",
       "      <td>...</td>\n",
       "      <td>...</td>\n",
       "      <td>...</td>\n",
       "      <td>...</td>\n",
       "      <td>...</td>\n",
       "      <td>...</td>\n",
       "    </tr>\n",
       "    <tr>\n",
       "      <th>123</th>\n",
       "      <td>PR-143-1205</td>\n",
       "      <td>High-heeled Shoe</td>\n",
       "      <td>High-heeled Shoe Size 41</td>\n",
       "      <td>41</td>\n",
       "      <td>1055</td>\n",
       "      <td>Piece</td>\n",
       "    </tr>\n",
       "    <tr>\n",
       "      <th>124</th>\n",
       "      <td>PR-143-1206</td>\n",
       "      <td>Pointe Shoe</td>\n",
       "      <td>Pointe Shoe Size 38</td>\n",
       "      <td>38</td>\n",
       "      <td>908</td>\n",
       "      <td>Piece</td>\n",
       "    </tr>\n",
       "    <tr>\n",
       "      <th>125</th>\n",
       "      <td>PR-143-1207</td>\n",
       "      <td>Pointe Shoe</td>\n",
       "      <td>Pointe Shoe Size 39</td>\n",
       "      <td>39</td>\n",
       "      <td>1071</td>\n",
       "      <td>Piece</td>\n",
       "    </tr>\n",
       "    <tr>\n",
       "      <th>126</th>\n",
       "      <td>PR-143-1208</td>\n",
       "      <td>Pointe Shoe</td>\n",
       "      <td>Pointe Shoe Size 40</td>\n",
       "      <td>40</td>\n",
       "      <td>1090</td>\n",
       "      <td>Piece</td>\n",
       "    </tr>\n",
       "    <tr>\n",
       "      <th>127</th>\n",
       "      <td>PR-143-1209</td>\n",
       "      <td>Pointe Shoe</td>\n",
       "      <td>Pointe Shoe Size 41</td>\n",
       "      <td>41</td>\n",
       "      <td>1159</td>\n",
       "      <td>Piece</td>\n",
       "    </tr>\n",
       "  </tbody>\n",
       "</table>\n",
       "<p>128 rows × 6 columns</p>\n",
       "</div>"
      ],
      "text/plain": [
       "    Product Code               name              Product Name  Size  \\\n",
       "0    PR-143-1082       Adidas Shoe        Adidas Shoe Size 38    38   \n",
       "1    PR-143-1083       Adidas Shoe        Adidas Shoe Size 39    39   \n",
       "2    PR-143-1084       Adidas Shoe        Adidas Shoe Size 40    40   \n",
       "3    PR-143-1085       Adidas Shoe        Adidas Shoe Size 41    41   \n",
       "4    PR-143-1086       Ballet Shoe        Ballet Shoe Size 38    38   \n",
       "..           ...                ...                       ...   ...   \n",
       "123  PR-143-1205  High-heeled Shoe   High-heeled Shoe Size 41    41   \n",
       "124  PR-143-1206       Pointe Shoe        Pointe Shoe Size 38    38   \n",
       "125  PR-143-1207       Pointe Shoe        Pointe Shoe Size 39    39   \n",
       "126  PR-143-1208       Pointe Shoe        Pointe Shoe Size 40    40   \n",
       "127  PR-143-1209       Pointe Shoe        Pointe Shoe Size 41    41   \n",
       "\n",
       "     Unit Price    UOM  \n",
       "0           916  Piece  \n",
       "1          1001  Piece  \n",
       "2          1165  Piece  \n",
       "3          1179  Piece  \n",
       "4          1094  Piece  \n",
       "..          ...    ...  \n",
       "123        1055  Piece  \n",
       "124         908  Piece  \n",
       "125        1071  Piece  \n",
       "126        1090  Piece  \n",
       "127        1159  Piece  \n",
       "\n",
       "[128 rows x 6 columns]"
      ]
     },
     "metadata": {},
     "output_type": "display_data"
    }
   ],
   "source": [
    "import pandas as pd\n",
    "\n",
    "\n",
    "df=pd.read_csv('products.csv', sep=';')\n",
    "#df.rename(columns={\"Code\":\"code\",\"Warehouse Code\": \"warehouse_id\",\"Warehouse Location\":\"location\"}, inplace=True)\n",
    "df"
   ]
  },
  {
   "cell_type": "code",
   "execution_count": null,
   "metadata": {},
   "outputs": [
    {
     "data": {
      "text/html": [
       "<div>\n",
       "<style scoped>\n",
       "    .dataframe tbody tr th:only-of-type {\n",
       "        vertical-align: middle;\n",
       "    }\n",
       "\n",
       "    .dataframe tbody tr th {\n",
       "        vertical-align: top;\n",
       "    }\n",
       "\n",
       "    .dataframe thead th {\n",
       "        text-align: right;\n",
       "    }\n",
       "</style>\n",
       "<table border=\"1\" class=\"dataframe\">\n",
       "  <thead>\n",
       "    <tr style=\"text-align: right;\">\n",
       "      <th></th>\n",
       "      <th>Product Code</th>\n",
       "      <th>name</th>\n",
       "      <th>Product Name</th>\n",
       "      <th>Size</th>\n",
       "      <th>Unit Price</th>\n",
       "      <th>UOM</th>\n",
       "      <th>prefix</th>\n",
       "      <th>pref</th>\n",
       "      <th>code</th>\n",
       "    </tr>\n",
       "  </thead>\n",
       "  <tbody>\n",
       "    <tr>\n",
       "      <th>0</th>\n",
       "      <td>PR-143-1082</td>\n",
       "      <td>Adidas Shoe</td>\n",
       "      <td>Adidas Shoe Size 38</td>\n",
       "      <td>38</td>\n",
       "      <td>916</td>\n",
       "      <td>Piece</td>\n",
       "      <td>PR</td>\n",
       "      <td>143</td>\n",
       "      <td>1082</td>\n",
       "    </tr>\n",
       "    <tr>\n",
       "      <th>1</th>\n",
       "      <td>PR-143-1083</td>\n",
       "      <td>Adidas Shoe</td>\n",
       "      <td>Adidas Shoe Size 39</td>\n",
       "      <td>39</td>\n",
       "      <td>1001</td>\n",
       "      <td>Piece</td>\n",
       "      <td>PR</td>\n",
       "      <td>143</td>\n",
       "      <td>1083</td>\n",
       "    </tr>\n",
       "    <tr>\n",
       "      <th>2</th>\n",
       "      <td>PR-143-1084</td>\n",
       "      <td>Adidas Shoe</td>\n",
       "      <td>Adidas Shoe Size 40</td>\n",
       "      <td>40</td>\n",
       "      <td>1165</td>\n",
       "      <td>Piece</td>\n",
       "      <td>PR</td>\n",
       "      <td>143</td>\n",
       "      <td>1084</td>\n",
       "    </tr>\n",
       "    <tr>\n",
       "      <th>3</th>\n",
       "      <td>PR-143-1085</td>\n",
       "      <td>Adidas Shoe</td>\n",
       "      <td>Adidas Shoe Size 41</td>\n",
       "      <td>41</td>\n",
       "      <td>1179</td>\n",
       "      <td>Piece</td>\n",
       "      <td>PR</td>\n",
       "      <td>143</td>\n",
       "      <td>1085</td>\n",
       "    </tr>\n",
       "    <tr>\n",
       "      <th>4</th>\n",
       "      <td>PR-143-1086</td>\n",
       "      <td>Ballet Shoe</td>\n",
       "      <td>Ballet Shoe Size 38</td>\n",
       "      <td>38</td>\n",
       "      <td>1094</td>\n",
       "      <td>Piece</td>\n",
       "      <td>PR</td>\n",
       "      <td>143</td>\n",
       "      <td>1086</td>\n",
       "    </tr>\n",
       "  </tbody>\n",
       "</table>\n",
       "</div>"
      ],
      "text/plain": [
       "  Product Code          name         Product Name  Size  Unit Price    UOM  \\\n",
       "0  PR-143-1082  Adidas Shoe   Adidas Shoe Size 38    38         916  Piece   \n",
       "1  PR-143-1083  Adidas Shoe   Adidas Shoe Size 39    39        1001  Piece   \n",
       "2  PR-143-1084  Adidas Shoe   Adidas Shoe Size 40    40        1165  Piece   \n",
       "3  PR-143-1085  Adidas Shoe   Adidas Shoe Size 41    41        1179  Piece   \n",
       "4  PR-143-1086  Ballet Shoe   Ballet Shoe Size 38    38        1094  Piece   \n",
       "\n",
       "  prefix pref  code  \n",
       "0     PR  143  1082  \n",
       "1     PR  143  1083  \n",
       "2     PR  143  1084  \n",
       "3     PR  143  1085  \n",
       "4     PR  143  1086  "
      ]
     },
     "metadata": {},
     "output_type": "display_data"
    }
   ],
   "source": [
    "df1=pd.read_csv('products.csv', sep=';')\n",
    "\n",
    "df1[['prefix','pref','code']] = df1['Product Code'].str.split('-',expand=True)\n",
    "df1.head()"
   ]
  },
  {
   "cell_type": "code",
   "execution_count": null,
   "metadata": {},
   "outputs": [
    {
     "data": {
      "text/html": [
       "<div>\n",
       "<style scoped>\n",
       "    .dataframe tbody tr th:only-of-type {\n",
       "        vertical-align: middle;\n",
       "    }\n",
       "\n",
       "    .dataframe tbody tr th {\n",
       "        vertical-align: top;\n",
       "    }\n",
       "\n",
       "    .dataframe thead th {\n",
       "        text-align: right;\n",
       "    }\n",
       "</style>\n",
       "<table border=\"1\" class=\"dataframe\">\n",
       "  <thead>\n",
       "    <tr style=\"text-align: right;\">\n",
       "      <th></th>\n",
       "      <th>code</th>\n",
       "    </tr>\n",
       "  </thead>\n",
       "  <tbody>\n",
       "    <tr>\n",
       "      <th>0</th>\n",
       "      <td>1082</td>\n",
       "    </tr>\n",
       "    <tr>\n",
       "      <th>1</th>\n",
       "      <td>1083</td>\n",
       "    </tr>\n",
       "    <tr>\n",
       "      <th>2</th>\n",
       "      <td>1084</td>\n",
       "    </tr>\n",
       "    <tr>\n",
       "      <th>3</th>\n",
       "      <td>1085</td>\n",
       "    </tr>\n",
       "    <tr>\n",
       "      <th>4</th>\n",
       "      <td>1086</td>\n",
       "    </tr>\n",
       "    <tr>\n",
       "      <th>...</th>\n",
       "      <td>...</td>\n",
       "    </tr>\n",
       "    <tr>\n",
       "      <th>123</th>\n",
       "      <td>1205</td>\n",
       "    </tr>\n",
       "    <tr>\n",
       "      <th>124</th>\n",
       "      <td>1206</td>\n",
       "    </tr>\n",
       "    <tr>\n",
       "      <th>125</th>\n",
       "      <td>1207</td>\n",
       "    </tr>\n",
       "    <tr>\n",
       "      <th>126</th>\n",
       "      <td>1208</td>\n",
       "    </tr>\n",
       "    <tr>\n",
       "      <th>127</th>\n",
       "      <td>1209</td>\n",
       "    </tr>\n",
       "  </tbody>\n",
       "</table>\n",
       "<p>128 rows × 1 columns</p>\n",
       "</div>"
      ],
      "text/plain": [
       "     code\n",
       "0    1082\n",
       "1    1083\n",
       "2    1084\n",
       "3    1085\n",
       "4    1086\n",
       "..    ...\n",
       "123  1205\n",
       "124  1206\n",
       "125  1207\n",
       "126  1208\n",
       "127  1209\n",
       "\n",
       "[128 rows x 1 columns]"
      ]
     },
     "metadata": {},
     "output_type": "display_data"
    }
   ],
   "source": [
    "df1= pd.DataFrame(df1['code'])\n",
    "df1"
   ]
  },
  {
   "cell_type": "code",
   "execution_count": null,
   "metadata": {},
   "outputs": [
    {
     "name": "stdout",
     "output_type": "stream",
     "text": [
      "You're connected to database:  ('compagny_data',)\n",
      "Creating table....\n",
      "Table is created....\n",
      "Table is created....\n"
     ]
    }
   ],
   "source": [
    "import mysql.connector as msql\n",
    "from mysql.connector import Error\n",
    "try:\n",
    "    conn = msql.connect(host='localhost', database='compagny_data', user='root', password='Shiva2370@')\n",
    "    if conn.is_connected():\n",
    "        cursor = conn.cursor()\n",
    "        cursor.execute(\"select database();\")\n",
    "        record = cursor.fetchone()\n",
    "        print(\"You're connected to database: \", record)\n",
    "        cursor.execute('DROP TABLE IF EXISTS product;')\n",
    "        print('Creating table....')\n",
    "# in the below line please pass the create table statement which you want #to creatPRIMARY KEYe\n",
    "        cursor.execute(\"CREATE TABLE product( product_id VARCHAR(100) NOT NULL PRIMARY KEY DEFAULT '0', name varchar(100), product_name VARCHAR(30), size varchar(100), unit_price INT NULL, uom VARCHAR(100))\")\n",
    "    \n",
    "        print(\"Table is created....\")\n",
    "        for i,row in df.iterrows():\n",
    "            #here %S means string values \n",
    "            sql = \"INSERT INTO compagny_data.product VALUES (%s,%s,%s,%s,%s,%s)\"\n",
    "            cursor.execute(sql, tuple(row))\n",
    "            \n",
    "            # the connection is not auto committed by default, so we must commit to save our changes\n",
    "            conn.commit()\n",
    "        #loop through the data frame\n",
    "        cursor.execute(\"CREATE TABLE product_seq(id INT NOT NULL AUTO_INCREMENT PRIMARY KEY)\")\n",
    "    \n",
    "        print(\"Table is created....\")\n",
    "        for i,row in df1.iterrows():\n",
    "            #here %S means string values \n",
    "            sql = \"INSERT INTO compagny_data.product_seq VALUES (%s)\"\n",
    "            cursor.execute(sql, tuple(row))\n",
    "            \n",
    "            # the connection is not auto committed by default, so we must commit to save our changes\n",
    "            conn.commit()\n",
    "        \n",
    "        \n",
    "except Error as e:\n",
    "            print(\"Error while connecting to MySQL\", e)"
   ]
  },
  {
   "cell_type": "code",
   "execution_count": null,
   "metadata": {},
   "outputs": [],
   "source": [
    "#trigger\n",
    "import mysql.connector as msql\n",
    "from mysql.connector import Error\n",
    "conn = msql.connect(host='localhost', database='compagny_data', user='root', password='Shiva2370@')\n",
    "if conn.is_connected():\n",
    "    cursor = conn.cursor()\n",
    "    cursor.execute(\"select database();\")\n",
    "    record = cursor.fetchone()\n",
    "    print(\"You're connected to database: \", record)\n",
    "cursor.execute(\"CREATE TRIGGER tg_product_insert_id BEFORE INSERT ON product FOR EACH ROW BEGIN INSERT INTO product_seq VALUES (NULL); SET NEW.product_id = CONCAT_WS('-','PR', '143',LAST_INSERT_ID()); END\")\n",
    "    \n",
    "print(\"Trigger tg_product_insert_id is created....\")"
   ]
  },
  {
   "attachments": {},
   "cell_type": "markdown",
   "metadata": {},
   "source": [
    "# Creation table delivery_cost"
   ]
  },
  {
   "cell_type": "code",
   "execution_count": null,
   "metadata": {},
   "outputs": [
    {
     "data": {
      "text/html": [
       "<div>\n",
       "<style scoped>\n",
       "    .dataframe tbody tr th:only-of-type {\n",
       "        vertical-align: middle;\n",
       "    }\n",
       "\n",
       "    .dataframe tbody tr th {\n",
       "        vertical-align: top;\n",
       "    }\n",
       "\n",
       "    .dataframe thead th {\n",
       "        text-align: right;\n",
       "    }\n",
       "</style>\n",
       "<table border=\"1\" class=\"dataframe\">\n",
       "  <thead>\n",
       "    <tr style=\"text-align: right;\">\n",
       "      <th></th>\n",
       "      <th>3PL Code</th>\n",
       "      <th>3PL Name</th>\n",
       "      <th>Delivery Cost</th>\n",
       "    </tr>\n",
       "  </thead>\n",
       "  <tbody>\n",
       "    <tr>\n",
       "      <th>0</th>\n",
       "      <td>3PL-001</td>\n",
       "      <td>DHL</td>\n",
       "      <td>10.45</td>\n",
       "    </tr>\n",
       "    <tr>\n",
       "      <th>1</th>\n",
       "      <td>3PL-002</td>\n",
       "      <td>FedEx</td>\n",
       "      <td>13.81</td>\n",
       "    </tr>\n",
       "    <tr>\n",
       "      <th>2</th>\n",
       "      <td>3PL-003</td>\n",
       "      <td>ShipBob</td>\n",
       "      <td>8.03</td>\n",
       "    </tr>\n",
       "    <tr>\n",
       "      <th>3</th>\n",
       "      <td>3PL-004</td>\n",
       "      <td>Rakuten Logistics</td>\n",
       "      <td>12.28</td>\n",
       "    </tr>\n",
       "  </tbody>\n",
       "</table>\n",
       "</div>"
      ],
      "text/plain": [
       "  3PL Code           3PL Name  Delivery Cost\n",
       "0  3PL-001                DHL          10.45\n",
       "1  3PL-002              FedEx          13.81\n",
       "2  3PL-003            ShipBob           8.03\n",
       "3  3PL-004  Rakuten Logistics          12.28"
      ]
     },
     "metadata": {},
     "output_type": "display_data"
    }
   ],
   "source": [
    "import pandas as pd\n",
    "\n",
    "\n",
    "df=pd.read_csv('delivery.csv', sep=';')\n",
    "#df.rename(columns={\"Code\":\"code\",\"Warehouse Code\": \"warehouse_id\",\"Warehouse Location\":\"location\"}, inplace=True)\n",
    "df"
   ]
  },
  {
   "cell_type": "code",
   "execution_count": null,
   "metadata": {},
   "outputs": [
    {
     "data": {
      "text/html": [
       "<div>\n",
       "<style scoped>\n",
       "    .dataframe tbody tr th:only-of-type {\n",
       "        vertical-align: middle;\n",
       "    }\n",
       "\n",
       "    .dataframe tbody tr th {\n",
       "        vertical-align: top;\n",
       "    }\n",
       "\n",
       "    .dataframe thead th {\n",
       "        text-align: right;\n",
       "    }\n",
       "</style>\n",
       "<table border=\"1\" class=\"dataframe\">\n",
       "  <thead>\n",
       "    <tr style=\"text-align: right;\">\n",
       "      <th></th>\n",
       "      <th>3PL Code</th>\n",
       "      <th>3PL Name</th>\n",
       "      <th>Delivery Cost</th>\n",
       "      <th>prefix</th>\n",
       "      <th>code</th>\n",
       "    </tr>\n",
       "  </thead>\n",
       "  <tbody>\n",
       "    <tr>\n",
       "      <th>0</th>\n",
       "      <td>3PL-001</td>\n",
       "      <td>DHL</td>\n",
       "      <td>10.45</td>\n",
       "      <td>3PL</td>\n",
       "      <td>001</td>\n",
       "    </tr>\n",
       "    <tr>\n",
       "      <th>1</th>\n",
       "      <td>3PL-002</td>\n",
       "      <td>FedEx</td>\n",
       "      <td>13.81</td>\n",
       "      <td>3PL</td>\n",
       "      <td>002</td>\n",
       "    </tr>\n",
       "    <tr>\n",
       "      <th>2</th>\n",
       "      <td>3PL-003</td>\n",
       "      <td>ShipBob</td>\n",
       "      <td>8.03</td>\n",
       "      <td>3PL</td>\n",
       "      <td>003</td>\n",
       "    </tr>\n",
       "    <tr>\n",
       "      <th>3</th>\n",
       "      <td>3PL-004</td>\n",
       "      <td>Rakuten Logistics</td>\n",
       "      <td>12.28</td>\n",
       "      <td>3PL</td>\n",
       "      <td>004</td>\n",
       "    </tr>\n",
       "  </tbody>\n",
       "</table>\n",
       "</div>"
      ],
      "text/plain": [
       "  3PL Code           3PL Name  Delivery Cost prefix code\n",
       "0  3PL-001                DHL          10.45    3PL  001\n",
       "1  3PL-002              FedEx          13.81    3PL  002\n",
       "2  3PL-003            ShipBob           8.03    3PL  003\n",
       "3  3PL-004  Rakuten Logistics          12.28    3PL  004"
      ]
     },
     "metadata": {},
     "output_type": "display_data"
    }
   ],
   "source": [
    "df1=pd.read_csv('delivery.csv', sep=';')\n",
    "\n",
    "df1[['prefix','code']] = df1['3PL Code'].str.split('-',expand=True)\n",
    "df1.head()"
   ]
  },
  {
   "cell_type": "code",
   "execution_count": null,
   "metadata": {},
   "outputs": [
    {
     "data": {
      "text/html": [
       "<div>\n",
       "<style scoped>\n",
       "    .dataframe tbody tr th:only-of-type {\n",
       "        vertical-align: middle;\n",
       "    }\n",
       "\n",
       "    .dataframe tbody tr th {\n",
       "        vertical-align: top;\n",
       "    }\n",
       "\n",
       "    .dataframe thead th {\n",
       "        text-align: right;\n",
       "    }\n",
       "</style>\n",
       "<table border=\"1\" class=\"dataframe\">\n",
       "  <thead>\n",
       "    <tr style=\"text-align: right;\">\n",
       "      <th></th>\n",
       "      <th>code</th>\n",
       "    </tr>\n",
       "  </thead>\n",
       "  <tbody>\n",
       "    <tr>\n",
       "      <th>0</th>\n",
       "      <td>001</td>\n",
       "    </tr>\n",
       "    <tr>\n",
       "      <th>1</th>\n",
       "      <td>002</td>\n",
       "    </tr>\n",
       "    <tr>\n",
       "      <th>2</th>\n",
       "      <td>003</td>\n",
       "    </tr>\n",
       "    <tr>\n",
       "      <th>3</th>\n",
       "      <td>004</td>\n",
       "    </tr>\n",
       "  </tbody>\n",
       "</table>\n",
       "</div>"
      ],
      "text/plain": [
       "  code\n",
       "0  001\n",
       "1  002\n",
       "2  003\n",
       "3  004"
      ]
     },
     "metadata": {},
     "output_type": "display_data"
    }
   ],
   "source": [
    "df1= pd.DataFrame(df1['code'])\n",
    "df1"
   ]
  },
  {
   "cell_type": "code",
   "execution_count": null,
   "metadata": {},
   "outputs": [
    {
     "name": "stdout",
     "output_type": "stream",
     "text": [
      "You're connected to database:  ('compagny_data',)\n",
      "Creating table....\n",
      "Table delivery_cost is created....\n",
      "data insert into delivery_cost\n",
      "data insert into delivery_cost\n",
      "data insert into delivery_cost\n",
      "data insert into delivery_cost\n",
      "Table is created....\n",
      "data insert into delivery_seq\n"
     ]
    }
   ],
   "source": [
    "import mysql.connector as msql\n",
    "from mysql.connector import Error\n",
    "try:\n",
    "    conn = msql.connect(host='localhost', database='compagny_data', user='root', password='Shiva2370@')\n",
    "    if conn.is_connected():\n",
    "        cursor = conn.cursor()\n",
    "        cursor.execute(\"select database();\")\n",
    "        record = cursor.fetchone()\n",
    "        print(\"You're connected to database: \", record)\n",
    "        cursor.execute('DROP TABLE IF EXISTS delivery_cost;')\n",
    "        print('Creating table....')\n",
    "# in the below line please pass the create table statement which you want #to creatPRIMARY KEYe\n",
    "        cursor.execute(\"CREATE TABLE delivery_cost(`id` varchar(20) NOT NULL DEFAULT '0',`name` varchar(100) DEFAULT NULL, `cost` float DEFAULT NULL,  PRIMARY KEY (`id`) )\")\n",
    "    \n",
    "        print(\"Table delivery_cost is created....\")\n",
    "        for i,row in df.iterrows():\n",
    "            #here %S means string values \n",
    "            sql = \"INSERT INTO compagny_data.delivery_cost VALUES (%s,%s,%s)\"\n",
    "            cursor.execute(sql, tuple(row))\n",
    "            \n",
    "            # the connection is not auto committed by default, so we must commit to save our changes\n",
    "            conn.commit()\n",
    "        print(\"data insert into delivery_cost\")\n",
    "        #loop through the data frame\n",
    "        cursor.execute('DROP TABLE IF EXISTS delivery_seq;')\n",
    "        cursor.execute(\"CREATE TABLE delivery_seq(id INT NOT NULL AUTO_INCREMENT PRIMARY KEY)\")\n",
    "    \n",
    "        print(\"Table is created....\")\n",
    "        for i,row in df1.iterrows():\n",
    "            #here %S means string values \n",
    "            sql = \"INSERT INTO compagny_data.delivery_seq VALUES (%s)\"\n",
    "            cursor.execute(sql, tuple(row))\n",
    "            \n",
    "            # the connection is not auto committed by default, so we must commit to save our changes\n",
    "            conn.commit()\n",
    "        print(\"data insert into delivery_seq\")\n",
    "        \n",
    "except Error as e:\n",
    "            print(\"Error while connecting to MySQL\", e)"
   ]
  },
  {
   "cell_type": "code",
   "execution_count": null,
   "metadata": {},
   "outputs": [
    {
     "name": "stdout",
     "output_type": "stream",
     "text": [
      "You're connected to database:  ('compagny_data',)\n",
      "Trigger tg_product_insert_id is created....\n"
     ]
    }
   ],
   "source": [
    "import mysql.connector as msql\n",
    "from mysql.connector import Error\n",
    "conn = msql.connect(host='localhost', database='compagny_data', user='root', password='Shiva2370@')\n",
    "if conn.is_connected():\n",
    "    cursor = conn.cursor()\n",
    "    cursor.execute(\"select database();\")\n",
    "    record = cursor.fetchone()\n",
    "    print(\"You're connected to database: \", record)\n",
    "cursor.execute(\"CREATE TRIGGER tg_delivery_insert_id BEFORE INSERT ON delivery_cost FOR EACH ROW BEGIN INSERT INTO delivery_seq VALUES (NULL); SET NEW.id = CONCAT_WS('-','3PL', LPAD(LAST_INSERT_ID(), 3, '0')); END\")\n",
    "    \n",
    "print(\"Trigger tg_delivery_insert_id is created....\")"
   ]
  },
  {
   "cell_type": "markdown",
   "metadata": {},
   "source": [
    "## Creation table agent "
   ]
  },
  {
   "cell_type": "code",
   "execution_count": null,
   "metadata": {},
   "outputs": [
    {
     "data": {
      "text/html": [
       "<div>\n",
       "<style scoped>\n",
       "    .dataframe tbody tr th:only-of-type {\n",
       "        vertical-align: middle;\n",
       "    }\n",
       "\n",
       "    .dataframe tbody tr th {\n",
       "        vertical-align: top;\n",
       "    }\n",
       "\n",
       "    .dataframe thead th {\n",
       "        text-align: right;\n",
       "    }\n",
       "</style>\n",
       "<table border=\"1\" class=\"dataframe\">\n",
       "  <thead>\n",
       "    <tr style=\"text-align: right;\">\n",
       "      <th></th>\n",
       "      <th>Agent Code</th>\n",
       "      <th>Job Grade</th>\n",
       "      <th>Location</th>\n",
       "      <th>Title</th>\n",
       "      <th>Shift</th>\n",
       "    </tr>\n",
       "  </thead>\n",
       "  <tbody>\n",
       "    <tr>\n",
       "      <th>0</th>\n",
       "      <td>AG-001</td>\n",
       "      <td>JG4</td>\n",
       "      <td>Philippines</td>\n",
       "      <td>Manager</td>\n",
       "      <td>Night</td>\n",
       "    </tr>\n",
       "    <tr>\n",
       "      <th>1</th>\n",
       "      <td>AG-002</td>\n",
       "      <td>JG4</td>\n",
       "      <td>India</td>\n",
       "      <td>Manager</td>\n",
       "      <td>Morning</td>\n",
       "    </tr>\n",
       "    <tr>\n",
       "      <th>2</th>\n",
       "      <td>AG-003</td>\n",
       "      <td>JG4</td>\n",
       "      <td>Malaysia</td>\n",
       "      <td>Manager</td>\n",
       "      <td>Night</td>\n",
       "    </tr>\n",
       "    <tr>\n",
       "      <th>3</th>\n",
       "      <td>AG-004</td>\n",
       "      <td>JG4</td>\n",
       "      <td>Indonesia</td>\n",
       "      <td>Manager</td>\n",
       "      <td>Morning</td>\n",
       "    </tr>\n",
       "    <tr>\n",
       "      <th>4</th>\n",
       "      <td>AG-005</td>\n",
       "      <td>JG7</td>\n",
       "      <td>Philippines</td>\n",
       "      <td>Analyst</td>\n",
       "      <td>Night</td>\n",
       "    </tr>\n",
       "  </tbody>\n",
       "</table>\n",
       "</div>"
      ],
      "text/plain": [
       "  Agent Code Job Grade     Location    Title    Shift\n",
       "0     AG-001       JG4  Philippines  Manager    Night\n",
       "1     AG-002       JG4        India  Manager  Morning\n",
       "2     AG-003       JG4     Malaysia  Manager    Night\n",
       "3     AG-004       JG4    Indonesia  Manager  Morning\n",
       "4     AG-005       JG7  Philippines  Analyst    Night"
      ]
     },
     "metadata": {},
     "output_type": "display_data"
    }
   ],
   "source": [
    "import pandas as pd\n",
    "\n",
    "\n",
    "df=pd.read_csv('agent.csv', sep=';')\n",
    "#df.rename(columns={\"Code\":\"code\",\"Warehouse Code\": \"warehouse_id\",\"Warehouse Location\":\"location\"}, inplace=True)\n",
    "df.head()"
   ]
  },
  {
   "cell_type": "code",
   "execution_count": null,
   "metadata": {},
   "outputs": [
    {
     "data": {
      "text/html": [
       "<div>\n",
       "<style scoped>\n",
       "    .dataframe tbody tr th:only-of-type {\n",
       "        vertical-align: middle;\n",
       "    }\n",
       "\n",
       "    .dataframe tbody tr th {\n",
       "        vertical-align: top;\n",
       "    }\n",
       "\n",
       "    .dataframe thead th {\n",
       "        text-align: right;\n",
       "    }\n",
       "</style>\n",
       "<table border=\"1\" class=\"dataframe\">\n",
       "  <thead>\n",
       "    <tr style=\"text-align: right;\">\n",
       "      <th></th>\n",
       "      <th>code</th>\n",
       "    </tr>\n",
       "  </thead>\n",
       "  <tbody>\n",
       "    <tr>\n",
       "      <th>0</th>\n",
       "      <td>001</td>\n",
       "    </tr>\n",
       "    <tr>\n",
       "      <th>1</th>\n",
       "      <td>002</td>\n",
       "    </tr>\n",
       "    <tr>\n",
       "      <th>2</th>\n",
       "      <td>003</td>\n",
       "    </tr>\n",
       "    <tr>\n",
       "      <th>3</th>\n",
       "      <td>004</td>\n",
       "    </tr>\n",
       "    <tr>\n",
       "      <th>4</th>\n",
       "      <td>005</td>\n",
       "    </tr>\n",
       "  </tbody>\n",
       "</table>\n",
       "</div>"
      ],
      "text/plain": [
       "  code\n",
       "0  001\n",
       "1  002\n",
       "2  003\n",
       "3  004\n",
       "4  005"
      ]
     },
     "metadata": {},
     "output_type": "display_data"
    }
   ],
   "source": [
    "df1=pd.read_csv('agent.csv', sep=';')\n",
    "\n",
    "df1[['prefix','code']] = df1['Agent Code'].str.split('-',expand=True)\n",
    "df1= pd.DataFrame(df1['code'])\n",
    "\n",
    "df1.head()"
   ]
  },
  {
   "cell_type": "code",
   "execution_count": null,
   "metadata": {},
   "outputs": [
    {
     "name": "stdout",
     "output_type": "stream",
     "text": [
      "You're connected to database:  ('compagny_data',)\n",
      "Creating table....\n",
      "Table delivery_cost is created....\n",
      "data insert into agent\n",
      "Table is created....\n",
      "data insert into agent_seq\n"
     ]
    }
   ],
   "source": [
    "import mysql.connector as msql\n",
    "from mysql.connector import Error\n",
    "try:\n",
    "    conn = msql.connect(host='localhost', database='compagny_data', user='root', password='Shiva2370@')\n",
    "    if conn.is_connected():\n",
    "        cursor = conn.cursor()\n",
    "        cursor.execute(\"select database();\")\n",
    "        record = cursor.fetchone()\n",
    "        print(\"You're connected to database: \", record)\n",
    "        cursor.execute('DROP TABLE IF EXISTS agent;')\n",
    "        print('Creating table....')\n",
    "# in the below line please pass the create table statement which you want #to creatPRIMARY KEYe\n",
    "        cursor.execute(\"CREATE TABLE agent(agent_id VARCHAR(20) NOT NULL PRIMARY KEY DEFAULT '0',job_grade varchar(100) DEFAULT NULL, location varchar(50) DEFAULT NULL, title varchar(100) DEFAULT NULL,shift varchar(100) DEFAULT NULL)\")\n",
    "    \n",
    "        print(\"Table delivery_cost is created....\")\n",
    "        for i,row in df.iterrows():\n",
    "            #here %S means string values \n",
    "            sql = \"INSERT INTO compagny_data.agent VALUES (%s,%s,%s,%s,%s)\"\n",
    "            cursor.execute(sql, tuple(row))\n",
    "            \n",
    "            # the connection is not auto committed by default, so we must commit to save our changes\n",
    "            conn.commit()\n",
    "        print(\"data insert into agent\")\n",
    "        #loop through the data frame\n",
    "        cursor.execute('DROP TABLE IF EXISTS agent_seq;')\n",
    "        cursor.execute(\"CREATE TABLE agent_seq(id INT NOT NULL AUTO_INCREMENT PRIMARY KEY)\")\n",
    "    \n",
    "        print(\"Table is created....\")\n",
    "        for i,row in df1.iterrows():\n",
    "            #here %S means string values \n",
    "            sql = \"INSERT INTO compagny_data.agent_seq VALUES (%s)\"\n",
    "            cursor.execute(sql, tuple(row))\n",
    "            \n",
    "            # the connection is not auto committed by default, so we must commit to save our changes\n",
    "            conn.commit()\n",
    "        print(\"data insert into agent_seq\")\n",
    "        \n",
    "except Error as e:\n",
    "            print(\"Error while connecting to MySQL\", e)"
   ]
  },
  {
   "cell_type": "markdown",
   "metadata": {},
   "source": [
    "### Trigger"
   ]
  },
  {
   "cell_type": "code",
   "execution_count": null,
   "metadata": {},
   "outputs": [
    {
     "name": "stdout",
     "output_type": "stream",
     "text": [
      "You're connected to database:  ('compagny_data',)\n",
      "Trigger tg_delivery_insert_id is created....\n"
     ]
    }
   ],
   "source": [
    "import mysql.connector as msql\n",
    "from mysql.connector import Error\n",
    "conn = msql.connect(host='localhost', database='compagny_data', user='root', password='Shiva2370@')\n",
    "if conn.is_connected():\n",
    "    cursor = conn.cursor()\n",
    "    cursor.execute(\"select database();\")\n",
    "    record = cursor.fetchone()\n",
    "    print(\"You're connected to database: \", record)\n",
    "cursor.execute(\"CREATE TRIGGER tg_agent_insert_id BEFORE INSERT ON agent FOR EACH ROW BEGIN INSERT INTO agent_seq VALUES (NULL); SET NEW.agent_id = CONCAT_WS('-','AG', LPAD(LAST_INSERT_ID(), 3, '0')); END\")\n",
    "    \n",
    "print(\"Trigger tg_agent_insert_id is created....\")"
   ]
  },
  {
   "attachments": {},
   "cell_type": "markdown",
   "metadata": {},
   "source": [
    "# Table orders"
   ]
  },
  {
   "cell_type": "markdown",
   "metadata": {},
   "source": [
    "### 1. Importez pandas"
   ]
  },
  {
   "cell_type": "code",
   "execution_count": null,
   "metadata": {},
   "outputs": [
    {
     "data": {
      "text/html": [
       "<div>\n",
       "<style scoped>\n",
       "    .dataframe tbody tr th:only-of-type {\n",
       "        vertical-align: middle;\n",
       "    }\n",
       "\n",
       "    .dataframe tbody tr th {\n",
       "        vertical-align: top;\n",
       "    }\n",
       "\n",
       "    .dataframe thead th {\n",
       "        text-align: right;\n",
       "    }\n",
       "</style>\n",
       "<table border=\"1\" class=\"dataframe\">\n",
       "  <thead>\n",
       "    <tr style=\"text-align: right;\">\n",
       "      <th></th>\n",
       "      <th>order_id</th>\n",
       "      <th>order_date</th>\n",
       "      <th>agent_code</th>\n",
       "      <th>processing_date</th>\n",
       "      <th>customer_code</th>\n",
       "      <th>product_code</th>\n",
       "      <th>quantity</th>\n",
       "      <th>selling_price</th>\n",
       "      <th>total_amount</th>\n",
       "      <th>warehouse_code</th>\n",
       "      <th>pl3</th>\n",
       "      <th>delivery_date</th>\n",
       "      <th>customer_satisfaction</th>\n",
       "    </tr>\n",
       "  </thead>\n",
       "  <tbody>\n",
       "    <tr>\n",
       "      <th>0</th>\n",
       "      <td>OR-481-389</td>\n",
       "      <td>2020-02-16</td>\n",
       "      <td>AG-003</td>\n",
       "      <td>2020-02-17</td>\n",
       "      <td>CU-001-1865</td>\n",
       "      <td>PR-143-1167</td>\n",
       "      <td>2</td>\n",
       "      <td>1038</td>\n",
       "      <td>2076</td>\n",
       "      <td>WH-004</td>\n",
       "      <td>3PL-003</td>\n",
       "      <td>2020-02-29</td>\n",
       "      <td>3</td>\n",
       "    </tr>\n",
       "    <tr>\n",
       "      <th>1</th>\n",
       "      <td>OR-481-390</td>\n",
       "      <td>2020-09-16</td>\n",
       "      <td>AG-004</td>\n",
       "      <td>2020-09-18</td>\n",
       "      <td>CU-001-1290</td>\n",
       "      <td>PR-143-1153</td>\n",
       "      <td>3</td>\n",
       "      <td>1084</td>\n",
       "      <td>3252</td>\n",
       "      <td>WH-001</td>\n",
       "      <td>3PL-001</td>\n",
       "      <td>2020-10-01</td>\n",
       "      <td>5</td>\n",
       "    </tr>\n",
       "    <tr>\n",
       "      <th>2</th>\n",
       "      <td>OR-481-391</td>\n",
       "      <td>2020-11-18</td>\n",
       "      <td>AG-001</td>\n",
       "      <td>2020-11-22</td>\n",
       "      <td>CU-001-2274</td>\n",
       "      <td>PR-143-1178</td>\n",
       "      <td>2</td>\n",
       "      <td>1090</td>\n",
       "      <td>2180</td>\n",
       "      <td>WH-001</td>\n",
       "      <td>3PL-003</td>\n",
       "      <td>2020-12-02</td>\n",
       "      <td>5</td>\n",
       "    </tr>\n",
       "    <tr>\n",
       "      <th>3</th>\n",
       "      <td>OR-481-392</td>\n",
       "      <td>2020-05-12</td>\n",
       "      <td>AG-026</td>\n",
       "      <td>2020-05-18</td>\n",
       "      <td>CU-001-2436</td>\n",
       "      <td>PR-143-1102</td>\n",
       "      <td>1</td>\n",
       "      <td>1038</td>\n",
       "      <td>1038</td>\n",
       "      <td>WH-004</td>\n",
       "      <td>3PL-001</td>\n",
       "      <td>2020-05-27</td>\n",
       "      <td>3</td>\n",
       "    </tr>\n",
       "    <tr>\n",
       "      <th>4</th>\n",
       "      <td>OR-481-393</td>\n",
       "      <td>2020-07-26</td>\n",
       "      <td>AG-011</td>\n",
       "      <td>2020-07-31</td>\n",
       "      <td>CU-001-2589</td>\n",
       "      <td>PR-143-1168</td>\n",
       "      <td>4</td>\n",
       "      <td>1079</td>\n",
       "      <td>4316</td>\n",
       "      <td>WH-001</td>\n",
       "      <td>3PL-002</td>\n",
       "      <td>2020-08-12</td>\n",
       "      <td>3</td>\n",
       "    </tr>\n",
       "  </tbody>\n",
       "</table>\n",
       "</div>"
      ],
      "text/plain": [
       "     order_id  order_date agent_code processing_date customer_code  \\\n",
       "0  OR-481-389  2020-02-16     AG-003      2020-02-17   CU-001-1865   \n",
       "1  OR-481-390  2020-09-16     AG-004      2020-09-18   CU-001-1290   \n",
       "2  OR-481-391  2020-11-18     AG-001      2020-11-22   CU-001-2274   \n",
       "3  OR-481-392  2020-05-12     AG-026      2020-05-18   CU-001-2436   \n",
       "4  OR-481-393  2020-07-26     AG-011      2020-07-31   CU-001-2589   \n",
       "\n",
       "  product_code  quantity  selling_price  total_amount warehouse_code      pl3  \\\n",
       "0  PR-143-1167         2           1038          2076         WH-004  3PL-003   \n",
       "1  PR-143-1153         3           1084          3252         WH-001  3PL-001   \n",
       "2  PR-143-1178         2           1090          2180         WH-001  3PL-003   \n",
       "3  PR-143-1102         1           1038          1038         WH-004  3PL-001   \n",
       "4  PR-143-1168         4           1079          4316         WH-001  3PL-002   \n",
       "\n",
       "  delivery_date  customer_satisfaction  \n",
       "0    2020-02-29                      3  \n",
       "1    2020-10-01                      5  \n",
       "2    2020-12-02                      5  \n",
       "3    2020-05-27                      3  \n",
       "4    2020-08-12                      3  "
      ]
     },
     "metadata": {},
     "output_type": "display_data"
    }
   ],
   "source": [
    "import pandas as pd\n",
    "\n",
    "\n",
    "df=pd.read_csv('order_faker.csv', sep=';')\n",
    "\n",
    "#df.rename(columns={\"Code\":\"code\",\"Warehouse Code\": \"warehouse_id\",\"Warehouse Location\":\"location\"}, inplace=True)\n",
    "df.head()"
   ]
  },
  {
   "cell_type": "code",
   "execution_count": null,
   "metadata": {},
   "outputs": [
    {
     "data": {
      "text/html": [
       "<div>\n",
       "<style scoped>\n",
       "    .dataframe tbody tr th:only-of-type {\n",
       "        vertical-align: middle;\n",
       "    }\n",
       "\n",
       "    .dataframe tbody tr th {\n",
       "        vertical-align: top;\n",
       "    }\n",
       "\n",
       "    .dataframe thead th {\n",
       "        text-align: right;\n",
       "    }\n",
       "</style>\n",
       "<table border=\"1\" class=\"dataframe\">\n",
       "  <thead>\n",
       "    <tr style=\"text-align: right;\">\n",
       "      <th></th>\n",
       "      <th>order_id</th>\n",
       "      <th>order_date</th>\n",
       "      <th>agent_code</th>\n",
       "      <th>processing_date</th>\n",
       "      <th>customer_code</th>\n",
       "      <th>product_code</th>\n",
       "      <th>quantity</th>\n",
       "      <th>selling_price</th>\n",
       "      <th>total_amount</th>\n",
       "      <th>warehouse_code</th>\n",
       "      <th>pl3</th>\n",
       "      <th>delivery_date</th>\n",
       "      <th>customer_satisfaction</th>\n",
       "      <th>prefix</th>\n",
       "      <th>pref</th>\n",
       "      <th>code</th>\n",
       "    </tr>\n",
       "  </thead>\n",
       "  <tbody>\n",
       "    <tr>\n",
       "      <th>0</th>\n",
       "      <td>OR-481-389</td>\n",
       "      <td>2020-02-16</td>\n",
       "      <td>AG-003</td>\n",
       "      <td>2020-02-17</td>\n",
       "      <td>CU-001-1865</td>\n",
       "      <td>PR-143-1167</td>\n",
       "      <td>2</td>\n",
       "      <td>1038</td>\n",
       "      <td>2076</td>\n",
       "      <td>WH-004</td>\n",
       "      <td>3PL-003</td>\n",
       "      <td>2020-02-29</td>\n",
       "      <td>3</td>\n",
       "      <td>OR</td>\n",
       "      <td>481</td>\n",
       "      <td>389</td>\n",
       "    </tr>\n",
       "    <tr>\n",
       "      <th>1</th>\n",
       "      <td>OR-481-390</td>\n",
       "      <td>2020-09-16</td>\n",
       "      <td>AG-004</td>\n",
       "      <td>2020-09-18</td>\n",
       "      <td>CU-001-1290</td>\n",
       "      <td>PR-143-1153</td>\n",
       "      <td>3</td>\n",
       "      <td>1084</td>\n",
       "      <td>3252</td>\n",
       "      <td>WH-001</td>\n",
       "      <td>3PL-001</td>\n",
       "      <td>2020-10-01</td>\n",
       "      <td>5</td>\n",
       "      <td>OR</td>\n",
       "      <td>481</td>\n",
       "      <td>390</td>\n",
       "    </tr>\n",
       "    <tr>\n",
       "      <th>2</th>\n",
       "      <td>OR-481-391</td>\n",
       "      <td>2020-11-18</td>\n",
       "      <td>AG-001</td>\n",
       "      <td>2020-11-22</td>\n",
       "      <td>CU-001-2274</td>\n",
       "      <td>PR-143-1178</td>\n",
       "      <td>2</td>\n",
       "      <td>1090</td>\n",
       "      <td>2180</td>\n",
       "      <td>WH-001</td>\n",
       "      <td>3PL-003</td>\n",
       "      <td>2020-12-02</td>\n",
       "      <td>5</td>\n",
       "      <td>OR</td>\n",
       "      <td>481</td>\n",
       "      <td>391</td>\n",
       "    </tr>\n",
       "    <tr>\n",
       "      <th>3</th>\n",
       "      <td>OR-481-392</td>\n",
       "      <td>2020-05-12</td>\n",
       "      <td>AG-026</td>\n",
       "      <td>2020-05-18</td>\n",
       "      <td>CU-001-2436</td>\n",
       "      <td>PR-143-1102</td>\n",
       "      <td>1</td>\n",
       "      <td>1038</td>\n",
       "      <td>1038</td>\n",
       "      <td>WH-004</td>\n",
       "      <td>3PL-001</td>\n",
       "      <td>2020-05-27</td>\n",
       "      <td>3</td>\n",
       "      <td>OR</td>\n",
       "      <td>481</td>\n",
       "      <td>392</td>\n",
       "    </tr>\n",
       "    <tr>\n",
       "      <th>4</th>\n",
       "      <td>OR-481-393</td>\n",
       "      <td>2020-07-26</td>\n",
       "      <td>AG-011</td>\n",
       "      <td>2020-07-31</td>\n",
       "      <td>CU-001-2589</td>\n",
       "      <td>PR-143-1168</td>\n",
       "      <td>4</td>\n",
       "      <td>1079</td>\n",
       "      <td>4316</td>\n",
       "      <td>WH-001</td>\n",
       "      <td>3PL-002</td>\n",
       "      <td>2020-08-12</td>\n",
       "      <td>3</td>\n",
       "      <td>OR</td>\n",
       "      <td>481</td>\n",
       "      <td>393</td>\n",
       "    </tr>\n",
       "  </tbody>\n",
       "</table>\n",
       "</div>"
      ],
      "text/plain": [
       "     order_id  order_date agent_code processing_date customer_code  \\\n",
       "0  OR-481-389  2020-02-16     AG-003      2020-02-17   CU-001-1865   \n",
       "1  OR-481-390  2020-09-16     AG-004      2020-09-18   CU-001-1290   \n",
       "2  OR-481-391  2020-11-18     AG-001      2020-11-22   CU-001-2274   \n",
       "3  OR-481-392  2020-05-12     AG-026      2020-05-18   CU-001-2436   \n",
       "4  OR-481-393  2020-07-26     AG-011      2020-07-31   CU-001-2589   \n",
       "\n",
       "  product_code  quantity  selling_price  total_amount warehouse_code      pl3  \\\n",
       "0  PR-143-1167         2           1038          2076         WH-004  3PL-003   \n",
       "1  PR-143-1153         3           1084          3252         WH-001  3PL-001   \n",
       "2  PR-143-1178         2           1090          2180         WH-001  3PL-003   \n",
       "3  PR-143-1102         1           1038          1038         WH-004  3PL-001   \n",
       "4  PR-143-1168         4           1079          4316         WH-001  3PL-002   \n",
       "\n",
       "  delivery_date  customer_satisfaction prefix pref code  \n",
       "0    2020-02-29                      3     OR  481  389  \n",
       "1    2020-10-01                      5     OR  481  390  \n",
       "2    2020-12-02                      5     OR  481  391  \n",
       "3    2020-05-27                      3     OR  481  392  \n",
       "4    2020-08-12                      3     OR  481  393  "
      ]
     },
     "metadata": {},
     "output_type": "display_data"
    }
   ],
   "source": [
    "df1=pd.read_csv('order_faker.csv', sep=';')\n",
    "\n",
    "df1[['prefix','prefix2','code']] = df1['order_id'].str.split('-',expand=True)\n",
    "df1.head()"
   ]
  },
  {
   "cell_type": "code",
   "execution_count": null,
   "metadata": {},
   "outputs": [
    {
     "data": {
      "text/html": [
       "<div>\n",
       "<style scoped>\n",
       "    .dataframe tbody tr th:only-of-type {\n",
       "        vertical-align: middle;\n",
       "    }\n",
       "\n",
       "    .dataframe tbody tr th {\n",
       "        vertical-align: top;\n",
       "    }\n",
       "\n",
       "    .dataframe thead th {\n",
       "        text-align: right;\n",
       "    }\n",
       "</style>\n",
       "<table border=\"1\" class=\"dataframe\">\n",
       "  <thead>\n",
       "    <tr style=\"text-align: right;\">\n",
       "      <th></th>\n",
       "      <th>code</th>\n",
       "    </tr>\n",
       "  </thead>\n",
       "  <tbody>\n",
       "    <tr>\n",
       "      <th>0</th>\n",
       "      <td>389</td>\n",
       "    </tr>\n",
       "    <tr>\n",
       "      <th>1</th>\n",
       "      <td>390</td>\n",
       "    </tr>\n",
       "    <tr>\n",
       "      <th>2</th>\n",
       "      <td>391</td>\n",
       "    </tr>\n",
       "    <tr>\n",
       "      <th>3</th>\n",
       "      <td>392</td>\n",
       "    </tr>\n",
       "    <tr>\n",
       "      <th>4</th>\n",
       "      <td>393</td>\n",
       "    </tr>\n",
       "  </tbody>\n",
       "</table>\n",
       "</div>"
      ],
      "text/plain": [
       "  code\n",
       "0  389\n",
       "1  390\n",
       "2  391\n",
       "3  392\n",
       "4  393"
      ]
     },
     "metadata": {},
     "output_type": "display_data"
    }
   ],
   "source": [
    "df1= pd.DataFrame(df1['code'])\n",
    "df1.head()"
   ]
  },
  {
   "cell_type": "code",
   "execution_count": null,
   "metadata": {},
   "outputs": [
    {
     "name": "stdout",
     "output_type": "stream",
     "text": [
      "You're connected to database:  ('compagny_data',)\n",
      "Creating table....\n",
      "Table orders is created....\n",
      "Record inserted\n",
      "Table order_seq is created....\n",
      "Record inserted\n"
     ]
    }
   ],
   "source": [
    "#create order_seq\n",
    "\n",
    "\n",
    "#df.rename(columns={\"Code\":\"code\",\"Warehouse Code\": \"warehouse_id\",\"Warehouse Location\":\"location\"}, inplace=True)\n",
    "\n",
    "import mysql.connector as msql\n",
    "from mysql.connector import Error\n",
    "try:\n",
    "    conn = msql.connect(host='localhost', database='compagny_data', user='root', password='Shiva2370@')\n",
    "    if conn.is_connected():\n",
    "        cursor = conn.cursor()\n",
    "        cursor.execute(\"select database();\")\n",
    "        record = cursor.fetchone()\n",
    "        print(\"You're connected to database: \", record)\n",
    "        cursor.execute('DROP TABLE IF EXISTS orders;')\n",
    "        print('Creating table....')\n",
    "# in the below line please pass the create table statement which you want #to create\n",
    "        cursor.execute(\"CREATE TABLE orders( order_id VARCHAR(100) NOT NULL PRIMARY KEY DEFAULT '0', order_date DATETIME NOT NULL, agent_id VARCHAR(20) NOT NULL,processing_date DATETIME NULL,customer_id VARCHAR(255) NOT NULL, product_id VARCHAR(100) NOT NULL, quantity INT NOT NULL, unit_price INT NOT NULL, total_amount INT NOT NULL,  warehouse_id VARCHAR(20) NOT NULL,pl3 VARCHAR(20) NOT NULL, delivery_date DATETIME NULL, customer_satisfaction INT NULL,CONSTRAINT `agent_id` FOREIGN KEY (`agent_id`) REFERENCES `agent` (`agent_id`) ON DELETE CASCADE ON UPDATE CASCADE,CONSTRAINT `customer_id` FOREIGN KEY (`customer_id`) REFERENCES `customer` (`customer_id`) ON DELETE CASCADE ON UPDATE CASCADE,CONSTRAINT `pl3` FOREIGN KEY (`pl3`) REFERENCES `delivery_cost` (`id`),CONSTRAINT `product_id` FOREIGN KEY (`product_id`) REFERENCES `product` (`product_id`),CONSTRAINT `warehouse_id` FOREIGN KEY (`warehouse_id`) REFERENCES `warehouse` (`warehouse_id`))\")\n",
    "    \n",
    "        print(\"Table orders is created....\")\n",
    "        for i,row in df.iterrows():\n",
    "            #here %S means string values \n",
    "            sql = \"INSERT INTO compagny_data.orders VALUES (%s,%s,%s,%s,%s,%s,%s,%s,%s,%s,%s,%s,%s)\"\n",
    "            cursor.execute(sql, tuple(row))\n",
    "            \n",
    "            # the connection is not auto committed by default, so we must commit to save our changes\n",
    "            conn.commit()\n",
    "        print(\"Record inserted\")\n",
    "        #loop through the data frame\n",
    "        cursor.execute('DROP TABLE IF EXISTS order_seq;')\n",
    "        cursor.execute(\"CREATE TABLE order_seq(id INT NOT NULL AUTO_INCREMENT PRIMARY KEY)\")\n",
    "    \n",
    "        print(\"Table order_seq is created....\")\n",
    "        for i,row in df1.iterrows():\n",
    "            #here %S means string values \n",
    "            sql = \"INSERT INTO compagny_data.order_seq VALUES (%s)\"\n",
    "            cursor.execute(sql, tuple(row))\n",
    "            \n",
    "            # the connection is not auto committed by default, so we must commit to save our changes\n",
    "            conn.commit()\n",
    "        print(\"Record inserted\")\n",
    "        \n",
    "\n",
    "        \n",
    "        \n",
    "      \n",
    "        \n",
    "except Error as e:\n",
    "            print(\"Error while connecting to MySQL\", e)"
   ]
  },
  {
   "cell_type": "markdown",
   "metadata": {},
   "source": [
    "### Creation du trigger BEFORE INSERT <a class=\"anchor\" id=\"Creation-du-trigger-BEFORE-INSERT\"></a>\n",
    "\n",
    "Creation du trigger BEFORE INSERT\n",
    "\n",
    "incrémentation automatique avec une chaîne de chiffres et de lettres"
   ]
  },
  {
   "cell_type": "code",
   "execution_count": null,
   "metadata": {},
   "outputs": [
    {
     "name": "stdout",
     "output_type": "stream",
     "text": [
      "You're connected to database:  ('compagny_data',)\n",
      "Trigger tg_order_insert_id is created....\n"
     ]
    }
   ],
   "source": [
    "import mysql.connector as msql\n",
    "from mysql.connector import Error\n",
    "conn = msql.connect(host='localhost', database='compagny_data', user='root', password='Shiva2370@')\n",
    "if conn.is_connected():\n",
    "    cursor = conn.cursor()\n",
    "    cursor.execute(\"select database();\")\n",
    "    record = cursor.fetchone()\n",
    "    print(\"You're connected to database: \", record)\n",
    "    cursor.execute(\"CREATE TRIGGER tg_order_insert_id BEFORE INSERT ON orders FOR EACH ROW BEGIN INSERT INTO order_seq VALUES (NULL); SET NEW.order_id = CONCAT_WS('-','OR', '481',LAST_INSERT_ID()); END\")\n",
    "    \n",
    "    print(\"Trigger tg_order_insert_id is created....\")\n",
    "\n"
   ]
  },
  {
   "cell_type": "markdown",
   "metadata": {},
   "source": [
    "## modif colonne unit_price "
   ]
  },
  {
   "cell_type": "code",
   "execution_count": null,
   "metadata": {},
   "outputs": [
    {
     "name": "stdout",
     "output_type": "stream",
     "text": [
      "You're connected to database:  ('compagny_data',)\n"
     ]
    }
   ],
   "source": [
    "import mysql.connector as msql\n",
    "from mysql.connector import Error\n",
    "conn = msql.connect(host='localhost', database='compagny_data', user='root', password='Shiva2370@')\n",
    "if conn.is_connected():\n",
    "    cursor = conn.cursor()\n",
    "    cursor.execute(\"select database();\")\n",
    "    record = cursor.fetchone()\n",
    "    print(\"You're connected to database: \", record)\n",
    "    cursor.execute(\"UPDATE compagny_data.orders INNER JOIN product ON compagny_data.orders.product_id = product.product_id SET compagny_data.orders.unit_price= product.unit_price\")\n",
    "    \n"
   ]
  },
  {
   "cell_type": "markdown",
   "metadata": {},
   "source": [
    "### Total amout"
   ]
  },
  {
   "cell_type": "markdown",
   "metadata": {},
   "source": [
    "![Alt text](Capture%20d%E2%80%99%C3%A9cran%20(103).png)"
   ]
  },
  {
   "cell_type": "code",
   "execution_count": null,
   "metadata": {},
   "outputs": [
    {
     "name": "stdout",
     "output_type": "stream",
     "text": [
      "You're connected to database:  ('compagny_data',)\n",
      "La colonne total_amount a été mise à jours\n"
     ]
    }
   ],
   "source": [
    "import mysql.connector as msql\n",
    "from mysql.connector import Error\n",
    "conn = msql.connect(host='localhost', database='compagny_data', user='root', password='Shiva2370@')\n",
    "if conn.is_connected():\n",
    "    cursor = conn.cursor()\n",
    "    cursor.execute(\"select database();\")\n",
    "    record = cursor.fetchone()\n",
    "    print(\"You're connected to database: \", record)\n",
    "    cursor.execute(\"UPDATE compagny_data.orders INNER JOIN product ON compagny_data.orders.product_id = product.product_id SET total_amount= product.unit_price*compagny_data.orders.quantity\")\n",
    "    \n",
    "    print(\"total_amount a été mis à jours\")"
   ]
  },
  {
   "cell_type": "code",
   "execution_count": 34,
   "metadata": {},
   "outputs": [
    {
     "name": "stdout",
     "output_type": "stream",
     "text": [
      "('agent',)\n",
      "('agent_seq',)\n",
      "('customer',)\n",
      "('customer_seq',)\n",
      "('delivery_cost',)\n",
      "('delivery_seq',)\n",
      "('order_seq',)\n",
      "('orders',)\n",
      "('product',)\n",
      "('product_seq',)\n",
      "('timestamps',)\n",
      "('warehouse',)\n",
      "('warehouse_seq',)\n"
     ]
    }
   ],
   "source": [
    "import mysql.connector\n",
    "\n",
    "mydb = mysql.connector.connect(\n",
    "  host=\"localhost\",\n",
    "  user=\"root\",\n",
    "  password=\"Shiva2370@\",\n",
    "  database='compagny_data'\n",
    ")\n",
    "mycursor = mydb.cursor()\n",
    "\n",
    "mycursor.execute(\"SHOW TABLES\")\n",
    "\n",
    "for x in mycursor:\n",
    "  print(x)"
   ]
  },
  {
   "cell_type": "code",
   "execution_count": null,
   "metadata": {},
   "outputs": [],
   "source": [
    "import mysql.connector\n",
    "\n",
    "mydb = mysql.connector.connect(\n",
    "  host=\"localhost\",\n",
    "  user=\"root\",\n",
    "  password=\"Shiva2370@\",\n",
    "  database='compagny_data'\n",
    ")\n",
    "mycursor = mydb.cursor()\n",
    "\n",
    "mycursor.execute(\"DROP TRIGGER compagny_data.tg_customer_insert_id\")\n",
    "\n",
    "print(\"Trigger deleted\")\n",
    "\n"
   ]
  }
 ],
 "metadata": {
  "kernelspec": {
   "display_name": "env",
   "language": "python",
   "name": "python3"
  },
  "language_info": {
   "codemirror_mode": {
    "name": "ipython",
    "version": 3
   },
   "file_extension": ".py",
   "mimetype": "text/x-python",
   "name": "python",
   "nbconvert_exporter": "python",
   "pygments_lexer": "ipython3",
   "version": "3.10.8"
  },
  "orig_nbformat": 4
 },
 "nbformat": 4,
 "nbformat_minor": 2
}
