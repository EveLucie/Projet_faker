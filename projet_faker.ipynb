{
  "cells": [
    {
      "attachments": {},
      "cell_type": "markdown",
      "metadata": {},
      "source": [
        "\n",
        "\n",
        "<h1 style=\"color: #49BFCF; font-family: serif;text-align: center\"><strong>Creation de données fictives avec Python\n",
        "</strong></h1>"
      ]
    },
    {
      "attachments": {},
      "cell_type": "markdown",
      "metadata": {},
      "source": [
        "<h1 style=\"color: #49BFCF; font-family: serif;\">Sommaire</h1>\n",
        "\n",
        "<h1 style=\"color: #49BFCF;font-family: serif;font-size:25px;\">1.Contexte</h1>\n",
        "\n",
        "<h1 style=\"color: #49BFCF;font-family: serif;font-size:25px;\">2.Description fonctionnelle</h1>\n",
        "<h1 style=\"color: #49BFCF;font-family: serif;font-size:25px;\">3.Les étapes de modifications des données</h1>\n",
        "<h1 style=\"color: #49BFCF;font-family: serif;font-size:25px;\">4.Les méthodes et technologies utilisées</h1>\n",
        "<h1 style=\"color: #49BFCF;font-family: serif;font-size:25px;\">5.Jupyter Notebook</h1>\n",
        "\n",
        "*   <h1 style=\"color: #49BFCF;font-family: serif;font-size:23px;\">5.1 Onglet Customers</h1>\n",
        "\n",
        "    * Importation des librairies python\n",
        "    * Lecture du jeu de données\n",
        "    * Exploration du jeux de données\n",
        "    * Informations sur les valeurs nulles\n",
        "    * Création des données fictives\n",
        "    * Fusion des données\n",
        "    * Enregistrement format csv et excel\n",
        "\n",
        "        \n",
        "            \n",
        "*   <h1 style=\"color: #49BFCF;font-family: serif;font-size:25px;\">5.2 Onglet orders</h1>\n",
        "    \n",
        "    * Lecture du jeu de données\n",
        "    * Exploration du jeux de données\n",
        "    * Informations sur les valeurs nulles\n",
        "    * Renommer les colonnes\n",
        "    * Création des données fictives\n",
        "    * Création des colonnes: \n",
        "        *   selling price\n",
        "        *   total amount\n",
        "        *   delivery_date\n",
        "        *   processing_date   \n",
        "    * Changer l'ordre des colonnes\n",
        "    * Fusion des données\n",
        "    * Enregistrement format csv et excel"
      ]
    },
    {
      "attachments": {},
      "cell_type": "markdown",
      "metadata": {
        "id": "2eB7urawbDjC"
      },
      "source": [
        "<h1 style=\"color: #49BFCF;font-size:35px; font-family: serif;\"><strong>1.Contexte\n",
        "</strong></h1>\n",
        "\n",
        "Dans ce NoteBook Jupyter, nous aborderons la première étape d'un projet Django: la création de données fictives à partir d'un fichier excel existant.\n",
        "\n",
        "**Etapes du projet django:**\n",
        "* <h1 style=\"color: #49BFCF;font-size:24px; font-family: serif;\">1.Création de données fictives</h1>\n",
        "*   2.Création base de données et tables dans Mysql \n",
        "*   3.Transferts des données vers MySQL\n",
        "*   4.Connection BDD MySQL au projet Django\n",
        "\n",
        "**Le fichier Excel:**\n",
        "\n",
        "Contient 6 onglets correspondant aux ventes et commandes d'une compagny US.\n",
        "\n",
        "J'ai choisi ce fichier car les différentes onglets ont des relations entre eux. Lors de la creation des tables dans notre base de données MySQL, nous utiliserons des foreign key afin d'y faire référence. \n",
        "\n",
        "[Lien vers le fichir excel]( https://docs.google.com/spreadsheets/d/1MJtHYN_gbFfFUBPX5la8-eNVEoe2ELPU/edit?usp=share_link&ouid=101522886780023023970&rtpof=true&sd=true)\n",
        "\n",
        "\n",
        "<h1 style=\"color: #49BFCF;font-size:35px; font-family: serif;\"><strong>2.Description fonctionnelle</strong></h1>\n",
        "\n",
        "Nous allons modifier deux onglets de celui ci.\n",
        "\n",
        " <h1 style=\"color: #49BFCF;font-size:24px; font-family: serif;\">Onglet Customer</h1>\n",
        "\n",
        "3 colonnes existantes:\n",
        "\n",
        "*   Customer No\n",
        "*   State\n",
        "*   Country\n",
        "\n",
        "<strong>Résulat attendu:</strong> pour chaque ligne existantes(clients), je souhaite ajouter des informations supplémentaires:\n",
        "\n",
        "*   Nom de famille\n",
        "*   Prénom\n",
        "*   Adresse\n",
        "*   Numéro de téléphone\n",
        "*   email\n",
        "*   Date de naissance(âge entre 18 et 90 ans)\n",
        "\n",
        " <h1 style=\"color: #49BFCF;font-size:24px; font-family: serif;\">Onglet Orders</h1>\n",
        "\n",
        "\n",
        "L'onglet Orders contient 13 colonnes:\n",
        "\n",
        "*  Order No\n",
        "* order_date\n",
        "* Agent Code\n",
        "* Processing Date\n",
        "* Customer No\n",
        "* Product Code\n",
        "* Quantity\n",
        "* Selling Price\n",
        "* Total Amount\n",
        "* Warehouse Code\n",
        "*   3PL \n",
        "*   Actual Delivery\n",
        "*   Customer Satisfaction\n",
        "\n",
        "**Résulat attendu:** les dates de commandes s'arretent fin 2020. Je souhaite créer des commandes entre 2021 et mars 2023, en utilisant les données présentes dans les colonnes existantes.\n",
        "\n",
        "Chaque nouvelle ligne aura un id différent, composé de chiffres et de lettres et sera incrémentée automatiquement.\n",
        "\n",
        "Exemple:\n",
        "\n",
        "*   OR-481-132578\n",
        "*   OR-481-132579\n",
        "*   OR-481-132580\n",
        "\n",
        "\n",
        "\n",
        "<h1 style=\"color: #49BFCF;font-size:30px; font-family: serif;\"><strong>3.Les étapes de modifications des données\n",
        "</strong></h1>\n",
        "\n",
        "* Importer les données excel dans un DataFrame\n",
        "* Générer les données fictives avec Faker\n",
        "* Fusionner les nouvelles données avec celles du fichier de base.\n",
        "* Enregistrer au format xlsx et csv\n",
        "\n",
        "\n",
        "<h1 style=\"color: #49BFCF;font-size:30px; font-family: serif;\"><strong>4.Les méthodes et technologies utilisées\n",
        "</strong></h1>\n",
        "\n",
        "**bibliothèque python:**\n",
        "\n",
        "*   Faker: est un package qui génère de fausses données.\n",
        "*   Pandas\n",
        "*   Numpy\n",
        "*   Random: génére des nombres et des données aléatoires\n",
        "\n",
        "\n",
        "**Afin de générer des ID auto incrementé**, j'ai crée une fonction et utilisé une valeur **globale**\n",
        "Les variables globales se déclarent en Python comme une variable locale mais à l'extérieur d'une fonction.Pour utiliser une variable globale sans modifier sa valeur, il suffit de l'appeler dans une fonction comme vous le feriez avec une variable locale. Si la fonction doit modifier la valeur de la variable, alors il faut la redéclarer en la précédant du mot-clé global.\n"
      ]
    },
    {
      "attachments": {},
      "cell_type": "markdown",
      "metadata": {},
      "source": [
        "<h1 style=\"color: #49BFCF;font-size:35px; font-family: serif;\"><strong>5.Jupyter Notebook\n",
        "</strong></h1>\n",
        "<h1 style=\"color: #49BFCF;font-size:30px; font-family: serif;\"><strong>5.1 Onglet Customers\n",
        "</strong></h1>"
      ]
    },
    {
      "attachments": {},
      "cell_type": "markdown",
      "metadata": {},
      "source": [
        "<h1 style=\"color: #49BFCF;font-size:28px; font-family: serif;\">Importation des librairies python</h1>\n"
      ]
    },
    {
      "cell_type": "code",
      "execution_count": null,
      "metadata": {},
      "outputs": [],
      "source": [
        "import pandas as pd\n",
        "import numpy as np\n",
        "import pandas as pd\n",
        "import random\n",
        "from datetime import datetime\n",
        "from faker import Faker\n",
        "from faker.providers import BaseProvider"
      ]
    },
    {
      "attachments": {},
      "cell_type": "markdown",
      "metadata": {},
      "source": [
        "<h1 style=\"color: #49BFCF;font-size:30px; font-family: serif;\">Lecture du jeu de données</h1>"
      ]
    },
    {
      "cell_type": "code",
      "execution_count": 3,
      "metadata": {
        "id": "MTIgD7r8G-pl"
      },
      "outputs": [],
      "source": [
        "import pandas as pd\n",
        "df_excel=pd.read_excel(open('compagny_data.xlsx', 'rb'),\n",
        "              sheet_name='CUSTOMER')  "
      ]
    },
    {
      "attachments": {},
      "cell_type": "markdown",
      "metadata": {},
      "source": [
        "\n",
        "<h1 style=\"color: #49BFCF;font-size:30px; font-family: serif;\">Exploration du jeux de données</h1>\n",
        "Les 5 premières lignes\n",
        "\n"
      ]
    },
    {
      "cell_type": "code",
      "execution_count": 4,
      "metadata": {
        "colab": {
          "base_uri": "https://localhost:8080/",
          "height": 206
        },
        "id": "fF_qFDIuWuS6",
        "outputId": "e2834494-e1a0-4b30-90da-5d99d5455970"
      },
      "outputs": [
        {
          "data": {
            "text/html": [
              "<div>\n",
              "<style scoped>\n",
              "    .dataframe tbody tr th:only-of-type {\n",
              "        vertical-align: middle;\n",
              "    }\n",
              "\n",
              "    .dataframe tbody tr th {\n",
              "        vertical-align: top;\n",
              "    }\n",
              "\n",
              "    .dataframe thead th {\n",
              "        text-align: right;\n",
              "    }\n",
              "</style>\n",
              "<table border=\"1\" class=\"dataframe\">\n",
              "  <thead>\n",
              "    <tr style=\"text-align: right;\">\n",
              "      <th></th>\n",
              "      <th>Customer No</th>\n",
              "      <th>Country</th>\n",
              "      <th>State</th>\n",
              "    </tr>\n",
              "  </thead>\n",
              "  <tbody>\n",
              "    <tr>\n",
              "      <th>0</th>\n",
              "      <td>CU-001-1248</td>\n",
              "      <td>USA</td>\n",
              "      <td>Alaska</td>\n",
              "    </tr>\n",
              "    <tr>\n",
              "      <th>1</th>\n",
              "      <td>CU-001-1249</td>\n",
              "      <td>USA</td>\n",
              "      <td>Hawaii</td>\n",
              "    </tr>\n",
              "    <tr>\n",
              "      <th>2</th>\n",
              "      <td>CU-001-1250</td>\n",
              "      <td>USA</td>\n",
              "      <td>Maryland</td>\n",
              "    </tr>\n",
              "    <tr>\n",
              "      <th>3</th>\n",
              "      <td>CU-001-1251</td>\n",
              "      <td>USA</td>\n",
              "      <td>Rhode Island</td>\n",
              "    </tr>\n",
              "    <tr>\n",
              "      <th>4</th>\n",
              "      <td>CU-001-1252</td>\n",
              "      <td>USA</td>\n",
              "      <td>Florida</td>\n",
              "    </tr>\n",
              "  </tbody>\n",
              "</table>\n",
              "</div>"
            ],
            "text/plain": [
              "   Customer No Country         State\n",
              "0  CU-001-1248     USA        Alaska\n",
              "1  CU-001-1249     USA        Hawaii\n",
              "2  CU-001-1250     USA      Maryland\n",
              "3  CU-001-1251     USA  Rhode Island\n",
              "4  CU-001-1252     USA       Florida"
            ]
          },
          "execution_count": 4,
          "metadata": {},
          "output_type": "execute_result"
        }
      ],
      "source": [
        " \n",
        "df_excel.head()"
      ]
    },
    {
      "attachments": {},
      "cell_type": "markdown",
      "metadata": {},
      "source": [
        "\n",
        "<h1 style=\"color: #49BFCF;font-size:30px; font-family: serif;\">Forme des données : \n",
        "</h1>\n",
        "Nombres de lignes et colonnes"
      ]
    },
    {
      "cell_type": "code",
      "execution_count": 5,
      "metadata": {},
      "outputs": [
        {
          "name": "stdout",
          "output_type": "stream",
          "text": [
            "Il y a 1765 lignes et 3 colonnes\n"
          ]
        }
      ],
      "source": [
        "import numpy as np\n",
        "df_excel.shape\n",
        "print('Il y a', np.shape(df_excel)[0], 'lignes et', np.shape(df_excel)[1],'colonnes')"
      ]
    },
    {
      "attachments": {},
      "cell_type": "markdown",
      "metadata": {},
      "source": [
        "\n",
        "<h1 style=\"color: #49BFCF;font-size:30px; font-family: serif;\">Informations sur le jeu de données\n",
        "</h1>\n",
        "Info affiche le tableau contenant les noms de colonne, le nombre de valeurs non nulles et les types de données."
      ]
    },
    {
      "cell_type": "code",
      "execution_count": 6,
      "metadata": {},
      "outputs": [
        {
          "name": "stdout",
          "output_type": "stream",
          "text": [
            "<class 'pandas.core.frame.DataFrame'>\n",
            "RangeIndex: 1765 entries, 0 to 1764\n",
            "Data columns (total 3 columns):\n",
            " #   Column       Non-Null Count  Dtype \n",
            "---  ------       --------------  ----- \n",
            " 0   Customer No  1765 non-null   object\n",
            " 1   Country      1765 non-null   object\n",
            " 2   State        1765 non-null   object\n",
            "dtypes: object(3)\n",
            "memory usage: 41.5+ KB\n"
          ]
        }
      ],
      "source": [
        "df_excel.info()"
      ]
    },
    {
      "attachments": {},
      "cell_type": "markdown",
      "metadata": {},
      "source": [
        "\n",
        "\n",
        "<h1 style=\"color: #49BFCF;font-size:30px; font-family: serif;\">Informations sur les valeurs nulles</h1>\n",
        "\n",
        "Nous allons ensuite vérifier si notre jeu de données contient des valeurs manquantes :"
      ]
    },
    {
      "cell_type": "code",
      "execution_count": 7,
      "metadata": {},
      "outputs": [
        {
          "data": {
            "text/plain": [
              "Customer No    0\n",
              "Country        0\n",
              "State          0\n",
              "dtype: int64"
            ]
          },
          "execution_count": 7,
          "metadata": {},
          "output_type": "execute_result"
        }
      ],
      "source": [
        "df_excel.isnull().sum()"
      ]
    },
    {
      "attachments": {},
      "cell_type": "markdown",
      "metadata": {},
      "source": [
        "Aucune valeur manquante dans le dataFrame."
      ]
    },
    {
      "attachments": {},
      "cell_type": "markdown",
      "metadata": {},
      "source": [
        "<h1 style=\"color: #49BFCF;font-size:30px; font-family: serif;\">Création des données fictives</h1>"
      ]
    },
    {
      "attachments": {},
      "cell_type": "markdown",
      "metadata": {},
      "source": [
        "Stockage dans une variable du nombre de customer"
      ]
    },
    {
      "cell_type": "code",
      "execution_count": 8,
      "metadata": {
        "colab": {
          "base_uri": "https://localhost:8080/"
        },
        "id": "NQrNfU7zXE4i",
        "outputId": "f1fa230f-a503-4771-bf87-7a2b8c52dfbd"
      },
      "outputs": [
        {
          "name": "stdout",
          "output_type": "stream",
          "text": [
            "1765\n"
          ]
        }
      ],
      "source": [
        "len = df_excel['Customer No'].count()\n",
        "print(len)"
      ]
    },
    {
      "attachments": {},
      "cell_type": "markdown",
      "metadata": {},
      "source": [
        "Creation d'une classe qui hérite du BaseProvider."
      ]
    },
    {
      "cell_type": "code",
      "execution_count": 9,
      "metadata": {
        "colab": {
          "base_uri": "https://localhost:8080/",
          "height": 424
        },
        "id": "AoS69YzF7ho0",
        "outputId": "99ab4d00-0565-4486-90b5-694719aca786"
      },
      "outputs": [
        {
          "data": {
            "text/html": [
              "<div>\n",
              "<style scoped>\n",
              "    .dataframe tbody tr th:only-of-type {\n",
              "        vertical-align: middle;\n",
              "    }\n",
              "\n",
              "    .dataframe tbody tr th {\n",
              "        vertical-align: top;\n",
              "    }\n",
              "\n",
              "    .dataframe thead th {\n",
              "        text-align: right;\n",
              "    }\n",
              "</style>\n",
              "<table border=\"1\" class=\"dataframe\">\n",
              "  <thead>\n",
              "    <tr style=\"text-align: right;\">\n",
              "      <th></th>\n",
              "      <th>firstName</th>\n",
              "      <th>lastName</th>\n",
              "      <th>address</th>\n",
              "      <th>phone</th>\n",
              "      <th>mail</th>\n",
              "      <th>birhtdate</th>\n",
              "    </tr>\n",
              "  </thead>\n",
              "  <tbody>\n",
              "    <tr>\n",
              "      <th>0</th>\n",
              "      <td>James</td>\n",
              "      <td>Wright</td>\n",
              "      <td>417 Monroe Throughway Apt. 398</td>\n",
              "      <td>001-329-578-0869x8359</td>\n",
              "      <td>zachary04@example.net</td>\n",
              "      <td>1961-08-31</td>\n",
              "    </tr>\n",
              "    <tr>\n",
              "      <th>1</th>\n",
              "      <td>Christopher</td>\n",
              "      <td>Scott</td>\n",
              "      <td>791 Nelson Mount Apt. 213</td>\n",
              "      <td>390.528.2460x90579</td>\n",
              "      <td>anthonythomas@example.net</td>\n",
              "      <td>1960-02-12</td>\n",
              "    </tr>\n",
              "    <tr>\n",
              "      <th>2</th>\n",
              "      <td>Jeffrey</td>\n",
              "      <td>Bennett</td>\n",
              "      <td>0528 Kelley Vista</td>\n",
              "      <td>(951)186-3312x37714</td>\n",
              "      <td>sarahcardenas@example.com</td>\n",
              "      <td>1965-10-02</td>\n",
              "    </tr>\n",
              "    <tr>\n",
              "      <th>3</th>\n",
              "      <td>Brandi</td>\n",
              "      <td>Marshall</td>\n",
              "      <td>5541 Medina Landing</td>\n",
              "      <td>(614)360-5611x13189</td>\n",
              "      <td>joelwilliams@example.net</td>\n",
              "      <td>1936-05-29</td>\n",
              "    </tr>\n",
              "    <tr>\n",
              "      <th>4</th>\n",
              "      <td>Thomas</td>\n",
              "      <td>Jenkins</td>\n",
              "      <td>93042 Smith Ferry Suite 387</td>\n",
              "      <td>836.736.3497</td>\n",
              "      <td>erice@example.org</td>\n",
              "      <td>1934-04-09</td>\n",
              "    </tr>\n",
              "    <tr>\n",
              "      <th>...</th>\n",
              "      <td>...</td>\n",
              "      <td>...</td>\n",
              "      <td>...</td>\n",
              "      <td>...</td>\n",
              "      <td>...</td>\n",
              "      <td>...</td>\n",
              "    </tr>\n",
              "    <tr>\n",
              "      <th>1760</th>\n",
              "      <td>Michael</td>\n",
              "      <td>Rosario</td>\n",
              "      <td>338 Payne Dale</td>\n",
              "      <td>767-616-8044x4950</td>\n",
              "      <td>melindawilliams@example.org</td>\n",
              "      <td>1936-10-06</td>\n",
              "    </tr>\n",
              "    <tr>\n",
              "      <th>1761</th>\n",
              "      <td>Gary</td>\n",
              "      <td>Farrell</td>\n",
              "      <td>496 Nicholas Springs</td>\n",
              "      <td>(667)897-3388x175</td>\n",
              "      <td>samanthakane@example.com</td>\n",
              "      <td>1989-04-26</td>\n",
              "    </tr>\n",
              "    <tr>\n",
              "      <th>1762</th>\n",
              "      <td>Gabriel</td>\n",
              "      <td>Anderson</td>\n",
              "      <td>124 Cook Fort Apt. 133</td>\n",
              "      <td>8203610089</td>\n",
              "      <td>johnwhite@example.net</td>\n",
              "      <td>1952-03-12</td>\n",
              "    </tr>\n",
              "    <tr>\n",
              "      <th>1763</th>\n",
              "      <td>Shelby</td>\n",
              "      <td>Hicks</td>\n",
              "      <td>068 Andrea Glens Suite 901</td>\n",
              "      <td>130.424.0736</td>\n",
              "      <td>prattcharles@example.net</td>\n",
              "      <td>1942-06-20</td>\n",
              "    </tr>\n",
              "    <tr>\n",
              "      <th>1764</th>\n",
              "      <td>James</td>\n",
              "      <td>Horne</td>\n",
              "      <td>80576 Day Mission Apt. 098</td>\n",
              "      <td>015.182.9259x40392</td>\n",
              "      <td>katrina17@example.net</td>\n",
              "      <td>1999-01-29</td>\n",
              "    </tr>\n",
              "  </tbody>\n",
              "</table>\n",
              "<p>1765 rows × 6 columns</p>\n",
              "</div>"
            ],
            "text/plain": [
              "        firstName  lastName                         address  \\\n",
              "0           James    Wright  417 Monroe Throughway Apt. 398   \n",
              "1     Christopher     Scott       791 Nelson Mount Apt. 213   \n",
              "2         Jeffrey   Bennett               0528 Kelley Vista   \n",
              "3          Brandi  Marshall             5541 Medina Landing   \n",
              "4          Thomas   Jenkins     93042 Smith Ferry Suite 387   \n",
              "...           ...       ...                             ...   \n",
              "1760      Michael   Rosario                  338 Payne Dale   \n",
              "1761         Gary   Farrell            496 Nicholas Springs   \n",
              "1762      Gabriel  Anderson          124 Cook Fort Apt. 133   \n",
              "1763       Shelby     Hicks      068 Andrea Glens Suite 901   \n",
              "1764        James     Horne      80576 Day Mission Apt. 098   \n",
              "\n",
              "                      phone                         mail   birhtdate  \n",
              "0     001-329-578-0869x8359        zachary04@example.net  1961-08-31  \n",
              "1        390.528.2460x90579    anthonythomas@example.net  1960-02-12  \n",
              "2       (951)186-3312x37714    sarahcardenas@example.com  1965-10-02  \n",
              "3       (614)360-5611x13189     joelwilliams@example.net  1936-05-29  \n",
              "4              836.736.3497            erice@example.org  1934-04-09  \n",
              "...                     ...                          ...         ...  \n",
              "1760      767-616-8044x4950  melindawilliams@example.org  1936-10-06  \n",
              "1761      (667)897-3388x175     samanthakane@example.com  1989-04-26  \n",
              "1762             8203610089        johnwhite@example.net  1952-03-12  \n",
              "1763           130.424.0736     prattcharles@example.net  1942-06-20  \n",
              "1764     015.182.9259x40392        katrina17@example.net  1999-01-29  \n",
              "\n",
              "[1765 rows x 6 columns]"
            ]
          },
          "execution_count": 9,
          "metadata": {},
          "output_type": "execute_result"
        }
      ],
      "source": [
        "import pandas as pd\n",
        "import random\n",
        "from datetime import datetime\n",
        "from faker import Faker\n",
        "from faker.providers import BaseProvider\n",
        "\n",
        "fake = Faker()\n",
        "\n",
        "# This custom Provider inherits from the BaseProvider\n",
        "class Provider(BaseProvider):\n",
        "\n",
        "    def firstName(self):\n",
        "        return fake.first_name()\n",
        "\n",
        "    def lastName(self):\n",
        "        return fake.last_name()\n",
        "\n",
        "    def address(self):       \n",
        "        return fake.street_address()\n",
        "\n",
        "    def phone(self):         \n",
        "        return fake.phone_number()    \n",
        "          \n",
        "    def mail(self):                       \n",
        "        return fake.email()\n",
        "\n",
        "    def birhtdate(self):\n",
        "      return fake.date_of_birth(minimum_age=18, maximum_age=90) \n",
        "\n",
        "# Add the Provider to our faker object\n",
        "fake.add_provider(Provider)\n",
        "\n",
        "def create_fake_data(fake, no_of_rows):\n",
        "\n",
        "    columns = ['firstName', 'lastName', 'address', 'phone', 'mail','birhtdate' ]\n",
        "    data = {column: [getattr(fake, column)() for _ in range(no_of_rows)] for column in columns}\n",
        "    df = pd.DataFrame(data=data)\n",
        "    df = df[columns]\n",
        "\n",
        "    return df\n",
        "\n",
        "df = create_fake_data(fake, int(len) ) #Create the same number of rows\n",
        "df"
      ]
    },
    {
      "attachments": {},
      "cell_type": "markdown",
      "metadata": {
        "id": "E8oBYEtkbWo1"
      },
      "source": [
        "<h1 style=\"color: #49BFCF;font-size:30px; font-family: serif;\">Fusion des données</h1>\n"
      ]
    },
    {
      "cell_type": "code",
      "execution_count": 10,
      "metadata": {
        "colab": {
          "base_uri": "https://localhost:8080/",
          "height": 424
        },
        "id": "7S34UDkSQ7n6",
        "outputId": "bcb1c2b0-2271-4473-eea6-f5415d73debd"
      },
      "outputs": [
        {
          "data": {
            "text/html": [
              "<div>\n",
              "<style scoped>\n",
              "    .dataframe tbody tr th:only-of-type {\n",
              "        vertical-align: middle;\n",
              "    }\n",
              "\n",
              "    .dataframe tbody tr th {\n",
              "        vertical-align: top;\n",
              "    }\n",
              "\n",
              "    .dataframe thead th {\n",
              "        text-align: right;\n",
              "    }\n",
              "</style>\n",
              "<table border=\"1\" class=\"dataframe\">\n",
              "  <thead>\n",
              "    <tr style=\"text-align: right;\">\n",
              "      <th></th>\n",
              "      <th>Customer No</th>\n",
              "      <th>Country</th>\n",
              "      <th>State</th>\n",
              "      <th>firstName</th>\n",
              "      <th>lastName</th>\n",
              "      <th>address</th>\n",
              "      <th>phone</th>\n",
              "      <th>mail</th>\n",
              "      <th>birhtdate</th>\n",
              "    </tr>\n",
              "  </thead>\n",
              "  <tbody>\n",
              "    <tr>\n",
              "      <th>0</th>\n",
              "      <td>CU-001-1248</td>\n",
              "      <td>USA</td>\n",
              "      <td>Alaska</td>\n",
              "      <td>James</td>\n",
              "      <td>Wright</td>\n",
              "      <td>417 Monroe Throughway Apt. 398</td>\n",
              "      <td>001-329-578-0869x8359</td>\n",
              "      <td>zachary04@example.net</td>\n",
              "      <td>1961-08-31</td>\n",
              "    </tr>\n",
              "    <tr>\n",
              "      <th>1</th>\n",
              "      <td>CU-001-1249</td>\n",
              "      <td>USA</td>\n",
              "      <td>Hawaii</td>\n",
              "      <td>Christopher</td>\n",
              "      <td>Scott</td>\n",
              "      <td>791 Nelson Mount Apt. 213</td>\n",
              "      <td>390.528.2460x90579</td>\n",
              "      <td>anthonythomas@example.net</td>\n",
              "      <td>1960-02-12</td>\n",
              "    </tr>\n",
              "    <tr>\n",
              "      <th>2</th>\n",
              "      <td>CU-001-1250</td>\n",
              "      <td>USA</td>\n",
              "      <td>Maryland</td>\n",
              "      <td>Jeffrey</td>\n",
              "      <td>Bennett</td>\n",
              "      <td>0528 Kelley Vista</td>\n",
              "      <td>(951)186-3312x37714</td>\n",
              "      <td>sarahcardenas@example.com</td>\n",
              "      <td>1965-10-02</td>\n",
              "    </tr>\n",
              "    <tr>\n",
              "      <th>3</th>\n",
              "      <td>CU-001-1251</td>\n",
              "      <td>USA</td>\n",
              "      <td>Rhode Island</td>\n",
              "      <td>Brandi</td>\n",
              "      <td>Marshall</td>\n",
              "      <td>5541 Medina Landing</td>\n",
              "      <td>(614)360-5611x13189</td>\n",
              "      <td>joelwilliams@example.net</td>\n",
              "      <td>1936-05-29</td>\n",
              "    </tr>\n",
              "    <tr>\n",
              "      <th>4</th>\n",
              "      <td>CU-001-1252</td>\n",
              "      <td>USA</td>\n",
              "      <td>Florida</td>\n",
              "      <td>Thomas</td>\n",
              "      <td>Jenkins</td>\n",
              "      <td>93042 Smith Ferry Suite 387</td>\n",
              "      <td>836.736.3497</td>\n",
              "      <td>erice@example.org</td>\n",
              "      <td>1934-04-09</td>\n",
              "    </tr>\n",
              "    <tr>\n",
              "      <th>...</th>\n",
              "      <td>...</td>\n",
              "      <td>...</td>\n",
              "      <td>...</td>\n",
              "      <td>...</td>\n",
              "      <td>...</td>\n",
              "      <td>...</td>\n",
              "      <td>...</td>\n",
              "      <td>...</td>\n",
              "      <td>...</td>\n",
              "    </tr>\n",
              "    <tr>\n",
              "      <th>1760</th>\n",
              "      <td>CU-001-3008</td>\n",
              "      <td>USA</td>\n",
              "      <td>Oregon</td>\n",
              "      <td>Michael</td>\n",
              "      <td>Rosario</td>\n",
              "      <td>338 Payne Dale</td>\n",
              "      <td>767-616-8044x4950</td>\n",
              "      <td>melindawilliams@example.org</td>\n",
              "      <td>1936-10-06</td>\n",
              "    </tr>\n",
              "    <tr>\n",
              "      <th>1761</th>\n",
              "      <td>CU-001-3009</td>\n",
              "      <td>USA</td>\n",
              "      <td>North Dakota</td>\n",
              "      <td>Gary</td>\n",
              "      <td>Farrell</td>\n",
              "      <td>496 Nicholas Springs</td>\n",
              "      <td>(667)897-3388x175</td>\n",
              "      <td>samanthakane@example.com</td>\n",
              "      <td>1989-04-26</td>\n",
              "    </tr>\n",
              "    <tr>\n",
              "      <th>1762</th>\n",
              "      <td>CU-001-3010</td>\n",
              "      <td>USA</td>\n",
              "      <td>Arkansas</td>\n",
              "      <td>Gabriel</td>\n",
              "      <td>Anderson</td>\n",
              "      <td>124 Cook Fort Apt. 133</td>\n",
              "      <td>8203610089</td>\n",
              "      <td>johnwhite@example.net</td>\n",
              "      <td>1952-03-12</td>\n",
              "    </tr>\n",
              "    <tr>\n",
              "      <th>1763</th>\n",
              "      <td>CU-001-3011</td>\n",
              "      <td>USA</td>\n",
              "      <td>Alabama</td>\n",
              "      <td>Shelby</td>\n",
              "      <td>Hicks</td>\n",
              "      <td>068 Andrea Glens Suite 901</td>\n",
              "      <td>130.424.0736</td>\n",
              "      <td>prattcharles@example.net</td>\n",
              "      <td>1942-06-20</td>\n",
              "    </tr>\n",
              "    <tr>\n",
              "      <th>1764</th>\n",
              "      <td>CU-001-3012</td>\n",
              "      <td>USA</td>\n",
              "      <td>Kentucky</td>\n",
              "      <td>James</td>\n",
              "      <td>Horne</td>\n",
              "      <td>80576 Day Mission Apt. 098</td>\n",
              "      <td>015.182.9259x40392</td>\n",
              "      <td>katrina17@example.net</td>\n",
              "      <td>1999-01-29</td>\n",
              "    </tr>\n",
              "  </tbody>\n",
              "</table>\n",
              "<p>1765 rows × 9 columns</p>\n",
              "</div>"
            ],
            "text/plain": [
              "      Customer No Country         State    firstName  lastName  \\\n",
              "0     CU-001-1248     USA        Alaska        James    Wright   \n",
              "1     CU-001-1249     USA        Hawaii  Christopher     Scott   \n",
              "2     CU-001-1250     USA      Maryland      Jeffrey   Bennett   \n",
              "3     CU-001-1251     USA  Rhode Island       Brandi  Marshall   \n",
              "4     CU-001-1252     USA       Florida       Thomas   Jenkins   \n",
              "...           ...     ...           ...          ...       ...   \n",
              "1760  CU-001-3008     USA        Oregon      Michael   Rosario   \n",
              "1761  CU-001-3009     USA  North Dakota         Gary   Farrell   \n",
              "1762  CU-001-3010     USA      Arkansas      Gabriel  Anderson   \n",
              "1763  CU-001-3011     USA       Alabama       Shelby     Hicks   \n",
              "1764  CU-001-3012     USA      Kentucky        James     Horne   \n",
              "\n",
              "                             address                  phone  \\\n",
              "0     417 Monroe Throughway Apt. 398  001-329-578-0869x8359   \n",
              "1          791 Nelson Mount Apt. 213     390.528.2460x90579   \n",
              "2                  0528 Kelley Vista    (951)186-3312x37714   \n",
              "3                5541 Medina Landing    (614)360-5611x13189   \n",
              "4        93042 Smith Ferry Suite 387           836.736.3497   \n",
              "...                              ...                    ...   \n",
              "1760                  338 Payne Dale      767-616-8044x4950   \n",
              "1761            496 Nicholas Springs      (667)897-3388x175   \n",
              "1762          124 Cook Fort Apt. 133             8203610089   \n",
              "1763      068 Andrea Glens Suite 901           130.424.0736   \n",
              "1764      80576 Day Mission Apt. 098     015.182.9259x40392   \n",
              "\n",
              "                             mail   birhtdate  \n",
              "0           zachary04@example.net  1961-08-31  \n",
              "1       anthonythomas@example.net  1960-02-12  \n",
              "2       sarahcardenas@example.com  1965-10-02  \n",
              "3        joelwilliams@example.net  1936-05-29  \n",
              "4               erice@example.org  1934-04-09  \n",
              "...                           ...         ...  \n",
              "1760  melindawilliams@example.org  1936-10-06  \n",
              "1761     samanthakane@example.com  1989-04-26  \n",
              "1762        johnwhite@example.net  1952-03-12  \n",
              "1763     prattcharles@example.net  1942-06-20  \n",
              "1764        katrina17@example.net  1999-01-29  \n",
              "\n",
              "[1765 rows x 9 columns]"
            ]
          },
          "execution_count": 10,
          "metadata": {},
          "output_type": "execute_result"
        }
      ],
      "source": [
        "df = pd.concat([df_excel,df], axis=1)\n",
        "df"
      ]
    },
    {
      "cell_type": "code",
      "execution_count": 11,
      "metadata": {},
      "outputs": [
        {
          "name": "stdout",
          "output_type": "stream",
          "text": [
            "<class 'pandas.core.frame.DataFrame'>\n",
            "RangeIndex: 1765 entries, 0 to 1764\n",
            "Data columns (total 9 columns):\n",
            " #   Column       Non-Null Count  Dtype \n",
            "---  ------       --------------  ----- \n",
            " 0   Customer No  1765 non-null   object\n",
            " 1   Country      1765 non-null   object\n",
            " 2   State        1765 non-null   object\n",
            " 3   firstName    1765 non-null   object\n",
            " 4   lastName     1765 non-null   object\n",
            " 5   address      1765 non-null   object\n",
            " 6   phone        1765 non-null   object\n",
            " 7   mail         1765 non-null   object\n",
            " 8   birhtdate    1765 non-null   object\n",
            "dtypes: object(9)\n",
            "memory usage: 124.2+ KB\n"
          ]
        }
      ],
      "source": [
        "df.info()"
      ]
    },
    {
      "attachments": {},
      "cell_type": "markdown",
      "metadata": {},
      "source": [
        "Convertion de la colonne 'birthdate'au format datetime"
      ]
    },
    {
      "cell_type": "code",
      "execution_count": 13,
      "metadata": {},
      "outputs": [],
      "source": [
        "df['birhtdate'] =  pd.to_datetime(df['birhtdate'], format='%Y-%M-%d')"
      ]
    },
    {
      "cell_type": "code",
      "execution_count": 14,
      "metadata": {},
      "outputs": [
        {
          "name": "stdout",
          "output_type": "stream",
          "text": [
            "<class 'pandas.core.series.Series'>\n",
            "RangeIndex: 1765 entries, 0 to 1764\n",
            "Series name: birhtdate\n",
            "Non-Null Count  Dtype         \n",
            "--------------  -----         \n",
            "1765 non-null   datetime64[ns]\n",
            "dtypes: datetime64[ns](1)\n",
            "memory usage: 13.9 KB\n"
          ]
        }
      ],
      "source": [
        "df['birhtdate'].info()"
      ]
    },
    {
      "attachments": {},
      "cell_type": "markdown",
      "metadata": {
        "id": "Mj0H0ZT6biXl"
      },
      "source": [
        "<h1 style=\"color: #49BFCF;font-size:30px; font-family: serif;\">Enregistrement au format excel dans le fichier existant 'compagny_data.xlsx'</h1>"
      ]
    },
    {
      "cell_type": "code",
      "execution_count": null,
      "metadata": {
        "id": "Oiz3LJCJKhfO"
      },
      "outputs": [],
      "source": [
        "with pd.ExcelWriter('compagny_data.xlsx',\n",
        "                  mode='a') as writer:\n",
        "\n",
        "      df.to_excel(writer, sheet_name='customer_faker', index=False)"
      ]
    },
    {
      "attachments": {},
      "cell_type": "markdown",
      "metadata": {
        "id": "Be0DwnHyLt9W"
      },
      "source": [
        "<h1 style=\"color: #49BFCF;font-size:30px; font-family: serif;\">Enregistrement format csv</h1>"
      ]
    },
    {
      "cell_type": "code",
      "execution_count": null,
      "metadata": {
        "id": "iQwm-9YiLYgL"
      },
      "outputs": [],
      "source": [
        "df.to_csv('customer_faker.csv')"
      ]
    },
    {
      "attachments": {},
      "cell_type": "markdown",
      "metadata": {},
      "source": [
        "\n",
        "\n",
        "<h1 style=\"color: #49BFCF;font-size:32px; font-family: serif;\"><strong>5.2 Onglet orders\n",
        "</strong></h1>"
      ]
    },
    {
      "attachments": {},
      "cell_type": "markdown",
      "metadata": {},
      "source": [
        "<h1 style=\"color: #49BFCF;font-size:30px; font-family: serif;\">Lecture du jeu de données</h1>\n",
        "Nous importons d’abord le fichier Excel en tant que Dataframe avec le code suivant :"
      ]
    },
    {
      "cell_type": "code",
      "execution_count": 50,
      "metadata": {},
      "outputs": [],
      "source": [
        "import pandas as pd\n",
        "df_excel_2=pd.read_excel(open('compagny_data.xlsx', 'rb'),\n",
        "              sheet_name='ORDERS')  \n"
      ]
    },
    {
      "cell_type": "markdown",
      "metadata": {},
      "source": [
        "Exploration rapide\n",
        "Head"
      ]
    },
    {
      "cell_type": "code",
      "execution_count": 51,
      "metadata": {},
      "outputs": [
        {
          "data": {
            "text/html": [
              "<div>\n",
              "<style scoped>\n",
              "    .dataframe tbody tr th:only-of-type {\n",
              "        vertical-align: middle;\n",
              "    }\n",
              "\n",
              "    .dataframe tbody tr th {\n",
              "        vertical-align: top;\n",
              "    }\n",
              "\n",
              "    .dataframe thead th {\n",
              "        text-align: right;\n",
              "    }\n",
              "</style>\n",
              "<table border=\"1\" class=\"dataframe\">\n",
              "  <thead>\n",
              "    <tr style=\"text-align: right;\">\n",
              "      <th></th>\n",
              "      <th>Order No</th>\n",
              "      <th>order_date</th>\n",
              "      <th>Agent Code</th>\n",
              "      <th>Processing Date</th>\n",
              "      <th>Customer No.</th>\n",
              "      <th>Product Code</th>\n",
              "      <th>Quantity</th>\n",
              "      <th>Selling Price</th>\n",
              "      <th>Total Amount</th>\n",
              "      <th>Warehouse Code</th>\n",
              "      <th>3PL</th>\n",
              "      <th>Actual Delivery</th>\n",
              "      <th>Customer Satisfaction</th>\n",
              "    </tr>\n",
              "  </thead>\n",
              "  <tbody>\n",
              "    <tr>\n",
              "      <th>0</th>\n",
              "      <td>OR-481-389</td>\n",
              "      <td>2020-02-16</td>\n",
              "      <td>AG-003</td>\n",
              "      <td>2020-02-17</td>\n",
              "      <td>CU-001-1865</td>\n",
              "      <td>PR-143-1167</td>\n",
              "      <td>2</td>\n",
              "      <td>1038</td>\n",
              "      <td>2076</td>\n",
              "      <td>WH-004</td>\n",
              "      <td>3PL-003</td>\n",
              "      <td>2020-02-29</td>\n",
              "      <td>3</td>\n",
              "    </tr>\n",
              "    <tr>\n",
              "      <th>1</th>\n",
              "      <td>OR-481-390</td>\n",
              "      <td>2020-09-16</td>\n",
              "      <td>AG-004</td>\n",
              "      <td>2020-09-18</td>\n",
              "      <td>CU-001-1290</td>\n",
              "      <td>PR-143-1153</td>\n",
              "      <td>3</td>\n",
              "      <td>1084</td>\n",
              "      <td>3252</td>\n",
              "      <td>WH-001</td>\n",
              "      <td>3PL-001</td>\n",
              "      <td>2020-10-01</td>\n",
              "      <td>5</td>\n",
              "    </tr>\n",
              "    <tr>\n",
              "      <th>2</th>\n",
              "      <td>OR-481-391</td>\n",
              "      <td>2020-11-18</td>\n",
              "      <td>AG-001</td>\n",
              "      <td>2020-11-22</td>\n",
              "      <td>CU-001-2274</td>\n",
              "      <td>PR-143-1178</td>\n",
              "      <td>2</td>\n",
              "      <td>1090</td>\n",
              "      <td>2180</td>\n",
              "      <td>WH-001</td>\n",
              "      <td>3PL-003</td>\n",
              "      <td>2020-12-02</td>\n",
              "      <td>5</td>\n",
              "    </tr>\n",
              "    <tr>\n",
              "      <th>3</th>\n",
              "      <td>OR-481-392</td>\n",
              "      <td>2020-05-12</td>\n",
              "      <td>AG-026</td>\n",
              "      <td>2020-05-18</td>\n",
              "      <td>CU-001-2436</td>\n",
              "      <td>PR-143-1102</td>\n",
              "      <td>1</td>\n",
              "      <td>1038</td>\n",
              "      <td>1038</td>\n",
              "      <td>WH-004</td>\n",
              "      <td>3PL-001</td>\n",
              "      <td>2020-05-27</td>\n",
              "      <td>3</td>\n",
              "    </tr>\n",
              "    <tr>\n",
              "      <th>4</th>\n",
              "      <td>OR-481-393</td>\n",
              "      <td>2020-07-26</td>\n",
              "      <td>AG-011</td>\n",
              "      <td>2020-07-31</td>\n",
              "      <td>CU-001-2589</td>\n",
              "      <td>PR-143-1168</td>\n",
              "      <td>4</td>\n",
              "      <td>1079</td>\n",
              "      <td>4316</td>\n",
              "      <td>WH-001</td>\n",
              "      <td>3PL-002</td>\n",
              "      <td>2020-08-12</td>\n",
              "      <td>3</td>\n",
              "    </tr>\n",
              "  </tbody>\n",
              "</table>\n",
              "</div>"
            ],
            "text/plain": [
              "     Order No order_date Agent Code Processing Date Customer No. Product Code  \\\n",
              "0  OR-481-389 2020-02-16     AG-003      2020-02-17  CU-001-1865  PR-143-1167   \n",
              "1  OR-481-390 2020-09-16     AG-004      2020-09-18  CU-001-1290  PR-143-1153   \n",
              "2  OR-481-391 2020-11-18     AG-001      2020-11-22  CU-001-2274  PR-143-1178   \n",
              "3  OR-481-392 2020-05-12     AG-026      2020-05-18  CU-001-2436  PR-143-1102   \n",
              "4  OR-481-393 2020-07-26     AG-011      2020-07-31  CU-001-2589  PR-143-1168   \n",
              "\n",
              "   Quantity  Selling Price  Total Amount Warehouse Code      3PL  \\\n",
              "0         2           1038          2076         WH-004  3PL-003   \n",
              "1         3           1084          3252         WH-001  3PL-001   \n",
              "2         2           1090          2180         WH-001  3PL-003   \n",
              "3         1           1038          1038         WH-004  3PL-001   \n",
              "4         4           1079          4316         WH-001  3PL-002   \n",
              "\n",
              "  Actual Delivery  Customer Satisfaction  \n",
              "0      2020-02-29                      3  \n",
              "1      2020-10-01                      5  \n",
              "2      2020-12-02                      5  \n",
              "3      2020-05-27                      3  \n",
              "4      2020-08-12                      3  "
            ]
          },
          "execution_count": 51,
          "metadata": {},
          "output_type": "execute_result"
        }
      ],
      "source": [
        "df_excel_2.head()"
      ]
    },
    {
      "cell_type": "markdown",
      "metadata": {},
      "source": [
        "\n",
        "<h1 style=\"color: #49BFCF;font-size:30px; font-family: serif;\">Forme des données : \n",
        "</h1>\n",
        "Nombres de lignes et colonnes"
      ]
    },
    {
      "cell_type": "code",
      "execution_count": 52,
      "metadata": {},
      "outputs": [
        {
          "name": "stdout",
          "output_type": "stream",
          "text": [
            "Il y a 132188 lignes et 13 colonnes\n"
          ]
        }
      ],
      "source": [
        "import numpy as np\n",
        "df_excel_2.shape\n",
        "print('Il y a', np.shape(df_excel_2)[0], 'lignes et', np.shape(df_excel_2)[1],'colonnes')"
      ]
    },
    {
      "cell_type": "markdown",
      "metadata": {},
      "source": [
        "\n",
        "<h1 style=\"color: #49BFCF;font-size:30px; font-family: serif;\">Informations sur le jeu de données\n",
        "</h1>\n",
        "Info affiche le tableau contenant les noms de colonne, le nombre de valeurs non nulles et les types de données."
      ]
    },
    {
      "cell_type": "code",
      "execution_count": 53,
      "metadata": {},
      "outputs": [
        {
          "name": "stdout",
          "output_type": "stream",
          "text": [
            "<class 'pandas.core.frame.DataFrame'>\n",
            "RangeIndex: 132188 entries, 0 to 132187\n",
            "Data columns (total 13 columns):\n",
            " #   Column                 Non-Null Count   Dtype         \n",
            "---  ------                 --------------   -----         \n",
            " 0   Order No               132188 non-null  object        \n",
            " 1   order_date             132188 non-null  datetime64[ns]\n",
            " 2   Agent Code             132188 non-null  object        \n",
            " 3   Processing Date        132188 non-null  datetime64[ns]\n",
            " 4   Customer No.           132188 non-null  object        \n",
            " 5   Product Code           132188 non-null  object        \n",
            " 6   Quantity               132188 non-null  int64         \n",
            " 7   Selling Price          132188 non-null  int64         \n",
            " 8   Total Amount           132188 non-null  int64         \n",
            " 9   Warehouse Code         132188 non-null  object        \n",
            " 10  3PL                    132188 non-null  object        \n",
            " 11  Actual Delivery        132188 non-null  datetime64[ns]\n",
            " 12  Customer Satisfaction  132188 non-null  int64         \n",
            "dtypes: datetime64[ns](3), int64(4), object(6)\n",
            "memory usage: 13.1+ MB\n"
          ]
        }
      ],
      "source": [
        "df_excel_2.info()"
      ]
    },
    {
      "cell_type": "markdown",
      "metadata": {},
      "source": [
        "\n",
        "\n",
        "<h1 style=\"color: #49BFCF;font-size:30px; font-family: serif;\">Informations sur les valeurs nulles</h1>\n",
        "\n",
        "Nous allons ensuite vérifier si notre jeu de données contient des valeurs manquantes :"
      ]
    },
    {
      "cell_type": "code",
      "execution_count": 21,
      "metadata": {},
      "outputs": [
        {
          "data": {
            "text/plain": [
              "Order No                 0\n",
              "order_date               0\n",
              "Agent Code               0\n",
              "Processing Date          0\n",
              "Customer No.             0\n",
              "Product Code             0\n",
              "Quantity                 0\n",
              "Selling Price            0\n",
              "Total Amount             0\n",
              "Warehouse Code           0\n",
              "3PL                      0\n",
              "Actual Delivery          0\n",
              "Customer Satisfaction    0\n",
              "dtype: int64"
            ]
          },
          "execution_count": 21,
          "metadata": {},
          "output_type": "execute_result"
        }
      ],
      "source": [
        "df_excel_2.isnull().sum()"
      ]
    },
    {
      "attachments": {},
      "cell_type": "markdown",
      "metadata": {},
      "source": [
        "<h1 style=\"color: #49BFCF;font-size:30px; font-family: serif;\">Modification des données</h1>"
      ]
    },
    {
      "attachments": {},
      "cell_type": "markdown",
      "metadata": {},
      "source": [
        "**Renommer les colonnes**"
      ]
    },
    {
      "cell_type": "code",
      "execution_count": 54,
      "metadata": {},
      "outputs": [
        {
          "data": {
            "text/plain": [
              "Index(['Order No', 'order_date', 'Agent Code', 'Processing Date',\n",
              "       'Customer No.', 'Product Code', 'Quantity', 'Selling Price',\n",
              "       'Total Amount', 'Warehouse Code', '3PL', 'Actual Delivery',\n",
              "       'Customer Satisfaction'],\n",
              "      dtype='object')"
            ]
          },
          "execution_count": 54,
          "metadata": {},
          "output_type": "execute_result"
        }
      ],
      "source": [
        "df_excel_2.columns"
      ]
    },
    {
      "attachments": {},
      "cell_type": "markdown",
      "metadata": {},
      "source": [
        "**En tête des colonnes en minuscule et espace remplacer par underscosr**"
      ]
    },
    {
      "cell_type": "code",
      "execution_count": 55,
      "metadata": {},
      "outputs": [],
      "source": [
        "df_excel_2.columns = [x.lower().replace(' ', '_') for x in df_excel_2.columns]"
      ]
    },
    {
      "cell_type": "code",
      "execution_count": 59,
      "metadata": {},
      "outputs": [],
      "source": [
        "df_excel_2=df_excel_2.rename(columns={ 'customer_no.':'customer_no',\n",
        "                                      '3pl':'delivery_cost'\n",
        "                                 \n",
        "                                    })\n"
      ]
    },
    {
      "cell_type": "code",
      "execution_count": 60,
      "metadata": {},
      "outputs": [
        {
          "data": {
            "text/plain": [
              "Index(['order_no', 'order_date', 'agent_code', 'processing_date',\n",
              "       'customer_no', 'product_code', 'quantity', 'selling_price',\n",
              "       'total_amount', 'warehouse_code', 'delivery_cost', 'actual_delivery',\n",
              "       'customer_satisfaction'],\n",
              "      dtype='object')"
            ]
          },
          "execution_count": 60,
          "metadata": {},
          "output_type": "execute_result"
        }
      ],
      "source": [
        "df_excel_2.columns"
      ]
    },
    {
      "cell_type": "markdown",
      "metadata": {},
      "source": [
        "<h1 style=\"color: #49BFCF;font-size:30px; font-family: serif;\">Création des données fictives</h1>"
      ]
    },
    {
      "attachments": {},
      "cell_type": "markdown",
      "metadata": {},
      "source": [
        "Dans le code suivant, on récupère les données unique présentes dans la colonne \"customer_code\""
      ]
    },
    {
      "cell_type": "code",
      "execution_count": 43,
      "metadata": {},
      "outputs": [
        {
          "name": "stdout",
          "output_type": "stream",
          "text": [
            "['CU-001-1865' 'CU-001-1290' 'CU-001-2274' ... 'CU-001-2995' 'CU-001-1654'\n",
            " 'CU-001-2546']\n"
          ]
        }
      ],
      "source": [
        "print(df_excel_2[\"customer_no\"].unique())"
      ]
    },
    {
      "attachments": {},
      "cell_type": "markdown",
      "metadata": {},
      "source": [
        "**Incrementation primary key avec letters et nombres**\n",
        "\n",
        "Incrementation commence à partir du dernier order_id\n",
        " "
      ]
    },
    {
      "cell_type": "code",
      "execution_count": 29,
      "metadata": {},
      "outputs": [
        {
          "name": "stdout",
          "output_type": "stream",
          "text": [
            "OR-481-132576\n"
          ]
        }
      ],
      "source": [
        "print(df_excel_2[\"order_no\"].iloc[-1])\n",
        "order_no=df_excel_2[\"order_no\"].iloc[-1]"
      ]
    },
    {
      "attachments": {},
      "cell_type": "markdown",
      "metadata": {},
      "source": [
        "On converti une chaine de caractère en nombre entier"
      ]
    },
    {
      "cell_type": "code",
      "execution_count": 45,
      "metadata": {},
      "outputs": [
        {
          "data": {
            "text/plain": [
              "132576"
            ]
          },
          "execution_count": 45,
          "metadata": {},
          "output_type": "execute_result"
        }
      ],
      "source": [
        "int(order_no[7:])\n"
      ]
    },
    {
      "cell_type": "code",
      "execution_count": 46,
      "metadata": {},
      "outputs": [
        {
          "data": {
            "text/plain": [
              "'OR-481-'"
            ]
          },
          "execution_count": 46,
          "metadata": {},
          "output_type": "execute_result"
        }
      ],
      "source": [
        "order_no[:7]"
      ]
    },
    {
      "attachments": {},
      "cell_type": "markdown",
      "metadata": {},
      "source": [
        "La fonction suivante permet de générer de nouveau identifiant. \n",
        "\n",
        "La variable num correspond au chiffre contenu dans le dernier id de la colonne order_code. order_no[7:]."
      ]
    },
    {
      "cell_type": "code",
      "execution_count": 47,
      "metadata": {},
      "outputs": [
        {
          "name": "stdout",
          "output_type": "stream",
          "text": [
            "OR-481-132577\n",
            "OR-481-132578\n",
            "OR-481-132579\n",
            "OR-481-132580\n",
            "OR-481-132581\n",
            "OR-481-132582\n",
            "OR-481-132583\n",
            "OR-481-132584\n",
            "OR-481-132585\n",
            "OR-481-132586\n"
          ]
        }
      ],
      "source": [
        "num = int(order_no[7:])\n",
        "def number():\n",
        "    global num\n",
        "    num += 1\n",
        "    return ('OR-481-'+ str(num))\n",
        "for i in range(10):\n",
        "  print(number())"
      ]
    },
    {
      "attachments": {},
      "cell_type": "markdown",
      "metadata": {},
      "source": [
        "**Creation de 400 000 nouvellles lignes de commandes entre le 01/01/2021 et 01/03/2023**"
      ]
    },
    {
      "cell_type": "code",
      "execution_count": 61,
      "metadata": {},
      "outputs": [
        {
          "data": {
            "text/html": [
              "<div>\n",
              "<style scoped>\n",
              "    .dataframe tbody tr th:only-of-type {\n",
              "        vertical-align: middle;\n",
              "    }\n",
              "\n",
              "    .dataframe tbody tr th {\n",
              "        vertical-align: top;\n",
              "    }\n",
              "\n",
              "    .dataframe thead th {\n",
              "        text-align: right;\n",
              "    }\n",
              "</style>\n",
              "<table border=\"1\" class=\"dataframe\">\n",
              "  <thead>\n",
              "    <tr style=\"text-align: right;\">\n",
              "      <th></th>\n",
              "      <th>order_no</th>\n",
              "      <th>order_date</th>\n",
              "      <th>agent_code</th>\n",
              "      <th>product_code</th>\n",
              "      <th>customer_no</th>\n",
              "      <th>quantity</th>\n",
              "      <th>warehouse_code</th>\n",
              "      <th>delivery_cost</th>\n",
              "      <th>customer_satisfaction</th>\n",
              "    </tr>\n",
              "  </thead>\n",
              "  <tbody>\n",
              "    <tr>\n",
              "      <th>0</th>\n",
              "      <td>OR-481-132587</td>\n",
              "      <td>2021-12-14</td>\n",
              "      <td>AG-021</td>\n",
              "      <td>PR-143-1205</td>\n",
              "      <td>CU-001-2144</td>\n",
              "      <td>7</td>\n",
              "      <td>WH-002</td>\n",
              "      <td>3PL-004</td>\n",
              "      <td>1</td>\n",
              "    </tr>\n",
              "    <tr>\n",
              "      <th>1</th>\n",
              "      <td>OR-481-132588</td>\n",
              "      <td>2021-03-28</td>\n",
              "      <td>AG-011</td>\n",
              "      <td>PR-143-1110</td>\n",
              "      <td>CU-001-2202</td>\n",
              "      <td>10</td>\n",
              "      <td>WH-002</td>\n",
              "      <td>3PL-003</td>\n",
              "      <td>5</td>\n",
              "    </tr>\n",
              "    <tr>\n",
              "      <th>2</th>\n",
              "      <td>OR-481-132589</td>\n",
              "      <td>2022-12-28</td>\n",
              "      <td>AG-001</td>\n",
              "      <td>PR-143-1205</td>\n",
              "      <td>CU-001-2092</td>\n",
              "      <td>5</td>\n",
              "      <td>WH-003</td>\n",
              "      <td>3PL-001</td>\n",
              "      <td>3</td>\n",
              "    </tr>\n",
              "    <tr>\n",
              "      <th>3</th>\n",
              "      <td>OR-481-132590</td>\n",
              "      <td>2021-06-27</td>\n",
              "      <td>AG-019</td>\n",
              "      <td>PR-143-1175</td>\n",
              "      <td>CU-001-1277</td>\n",
              "      <td>5</td>\n",
              "      <td>WH-004</td>\n",
              "      <td>3PL-004</td>\n",
              "      <td>2</td>\n",
              "    </tr>\n",
              "    <tr>\n",
              "      <th>4</th>\n",
              "      <td>OR-481-132591</td>\n",
              "      <td>2021-09-06</td>\n",
              "      <td>AG-026</td>\n",
              "      <td>PR-143-1083</td>\n",
              "      <td>CU-001-2262</td>\n",
              "      <td>6</td>\n",
              "      <td>WH-004</td>\n",
              "      <td>3PL-004</td>\n",
              "      <td>2</td>\n",
              "    </tr>\n",
              "  </tbody>\n",
              "</table>\n",
              "</div>"
            ],
            "text/plain": [
              "        order_no  order_date agent_code product_code  customer_no  quantity  \\\n",
              "0  OR-481-132587  2021-12-14     AG-021  PR-143-1205  CU-001-2144         7   \n",
              "1  OR-481-132588  2021-03-28     AG-011  PR-143-1110  CU-001-2202        10   \n",
              "2  OR-481-132589  2022-12-28     AG-001  PR-143-1205  CU-001-2092         5   \n",
              "3  OR-481-132590  2021-06-27     AG-019  PR-143-1175  CU-001-1277         5   \n",
              "4  OR-481-132591  2021-09-06     AG-026  PR-143-1083  CU-001-2262         6   \n",
              "\n",
              "  warehouse_code delivery_cost  customer_satisfaction  \n",
              "0         WH-002       3PL-004                      1  \n",
              "1         WH-002       3PL-003                      5  \n",
              "2         WH-003       3PL-001                      3  \n",
              "3         WH-004       3PL-004                      2  \n",
              "4         WH-004       3PL-004                      2  "
            ]
          },
          "execution_count": 61,
          "metadata": {},
          "output_type": "execute_result"
        }
      ],
      "source": [
        "import pandas as pd\n",
        "import random\n",
        "from datetime import datetime\n",
        "from faker import Faker\n",
        "from faker.providers import BaseProvider\n",
        "\n",
        "fake = Faker()\n",
        "\n",
        "# This custom Provider inherits from the BaseProvider\n",
        "class Provider(BaseProvider):\n",
        "\n",
        "    start_date = datetime(2021, 1, 1)\n",
        "    end_date = datetime(2023, 3, 1)    \n",
        "    agent = df_excel_2[\"agent_code\"].unique()   \n",
        "    \n",
        "    warehouse = df_excel_2[\"warehouse_code\"].unique()   \n",
        "    \n",
        "    num =  int(order_no[7:])\n",
        "    p_code=df_excel_2['product_code'].unique()\n",
        "    c_code=df_excel_2[\"customer_no\"].unique()\n",
        "    cost=df_excel_2[\"delivery_cost\"].unique()\n",
        "  \n",
        "\n",
        "\n",
        "    def order_no(self):\n",
        "      global num\n",
        "      num += 1\n",
        "      return (order_no[:7]+ str(num))\n",
        "\n",
        "    def order_date(self):        \n",
        "        \"\"\"Return random date between the start and end dates.\"\"\"        \n",
        "\n",
        "        self.order_date = fake.date_between_dates(\n",
        "            date_start=self.start_date, date_end=self.end_date).strftime('%Y-%m-%d')\n",
        "\n",
        "        return self.order_date\n",
        "\n",
        "   \n",
        "\n",
        "    def agent_code(self):\n",
        "        \"\"\"Return a random agent from colomn 'agent_code\"\"\"        \n",
        "\n",
        "        return random.choice(self.agent)\n",
        "\n",
        "    def product_code(self):\n",
        "        \"\"\"Return a random product code from column 'product_code' \"\"\"        \n",
        "\n",
        "        return random.choice(self.p_code)\n",
        "\n",
        "    def customer_no(self):\n",
        "        \"\"\"Return a random customer code from column 'customer_code' \"\"\"        \n",
        "\n",
        "        return random.choice(self.c_code)\n",
        "\n",
        "    def quantity(self):\n",
        "    \n",
        "        return random.randint(1, 10)\n",
        "\n",
        "    def warehouse_code(self):\n",
        "        \"\"\"Return a random warehousecode from column 'warehouse_code' \"\"\"        \n",
        "\n",
        "        return random.choice(self.warehouse)\n",
        "\n",
        "    def delivery_cost(self):      \n",
        "\n",
        "        return random.choice(self.cost)\n",
        "\n",
        "    def customer_satisfaction(self):      \n",
        "\n",
        "        return random.randint(1, 5)        \n",
        "\n",
        "    \n",
        "\n",
        "    \n",
        "\n",
        "# Add the Provider to our faker object\n",
        "fake.add_provider(Provider)\n",
        "\n",
        "def create_fake_data(fake, no_of_rows):\n",
        "\n",
        "    columns = [ 'order_no','order_date','agent_code', 'product_code','customer_no','quantity', 'warehouse_code','delivery_cost', 'customer_satisfaction' ]\n",
        "    data = {column: [getattr(fake, column)() for _ in range(no_of_rows)] for column in columns}\n",
        "    df_order = pd.DataFrame(data=data)\n",
        "    df_order = df_order[columns]\n",
        "\n",
        "    return df_order\n",
        "\n",
        "df_order = create_fake_data(fake,400000 )\n",
        "df_order.head()\n"
      ]
    },
    {
      "cell_type": "code",
      "execution_count": 73,
      "metadata": {},
      "outputs": [
        {
          "data": {
            "text/plain": [
              "(400000, 9)"
            ]
          },
          "execution_count": 73,
          "metadata": {},
          "output_type": "execute_result"
        }
      ],
      "source": [
        "df_order.shape"
      ]
    },
    {
      "attachments": {},
      "cell_type": "markdown",
      "metadata": {},
      "source": [
        "<h1 style=\"color: #49BFCF;font-size:30px; font-family: serif;\">Création des colonnes:  </h1>\n",
        "\n",
        "*   selling price\n",
        "*   total amount\n",
        "*   delivery_date\n",
        "*   processing_date\n",
        "\n",
        "\n",
        "\n",
        "\n",
        "\n",
        "\n",
        "\n"
      ]
    },
    {
      "attachments": {},
      "cell_type": "markdown",
      "metadata": {},
      "source": [
        "<h1 style=\"color: #49BFCF;font-size:30px; font-family: serif;\">Colonne selling_price</h1>\n",
        "Merge des dataframes afin de récupérer les prix de ventes\n",
        "Pour chaque 'Produit Code', je veux obtenir le prix correspondant. \n",
        "\n",
        "Stockage dans un dataframe des deux colonnes correspondantes."
      ]
    },
    {
      "cell_type": "code",
      "execution_count": null,
      "metadata": {},
      "outputs": [
        {
          "data": {
            "text/html": [
              "<div>\n",
              "<style scoped>\n",
              "    .dataframe tbody tr th:only-of-type {\n",
              "        vertical-align: middle;\n",
              "    }\n",
              "\n",
              "    .dataframe tbody tr th {\n",
              "        vertical-align: top;\n",
              "    }\n",
              "\n",
              "    .dataframe thead th {\n",
              "        text-align: right;\n",
              "    }\n",
              "</style>\n",
              "<table border=\"1\" class=\"dataframe\">\n",
              "  <thead>\n",
              "    <tr style=\"text-align: right;\">\n",
              "      <th></th>\n",
              "      <th>product_code</th>\n",
              "      <th>selling_price</th>\n",
              "    </tr>\n",
              "  </thead>\n",
              "  <tbody>\n",
              "    <tr>\n",
              "      <th>0</th>\n",
              "      <td>PR-143-1167</td>\n",
              "      <td>1038</td>\n",
              "    </tr>\n",
              "    <tr>\n",
              "      <th>1</th>\n",
              "      <td>PR-143-1153</td>\n",
              "      <td>1084</td>\n",
              "    </tr>\n",
              "    <tr>\n",
              "      <th>2</th>\n",
              "      <td>PR-143-1178</td>\n",
              "      <td>1090</td>\n",
              "    </tr>\n",
              "    <tr>\n",
              "      <th>3</th>\n",
              "      <td>PR-143-1102</td>\n",
              "      <td>1038</td>\n",
              "    </tr>\n",
              "    <tr>\n",
              "      <th>4</th>\n",
              "      <td>PR-143-1168</td>\n",
              "      <td>1079</td>\n",
              "    </tr>\n",
              "    <tr>\n",
              "      <th>...</th>\n",
              "      <td>...</td>\n",
              "      <td>...</td>\n",
              "    </tr>\n",
              "    <tr>\n",
              "      <th>132183</th>\n",
              "      <td>PR-143-1159</td>\n",
              "      <td>1136</td>\n",
              "    </tr>\n",
              "    <tr>\n",
              "      <th>132184</th>\n",
              "      <td>PR-143-1176</td>\n",
              "      <td>976</td>\n",
              "    </tr>\n",
              "    <tr>\n",
              "      <th>132185</th>\n",
              "      <td>PR-143-1121</td>\n",
              "      <td>1099</td>\n",
              "    </tr>\n",
              "    <tr>\n",
              "      <th>132186</th>\n",
              "      <td>PR-143-1161</td>\n",
              "      <td>1236</td>\n",
              "    </tr>\n",
              "    <tr>\n",
              "      <th>132187</th>\n",
              "      <td>PR-143-1192</td>\n",
              "      <td>991</td>\n",
              "    </tr>\n",
              "  </tbody>\n",
              "</table>\n",
              "<p>132188 rows × 2 columns</p>\n",
              "</div>"
            ],
            "text/plain": [
              "       product_code  selling_price\n",
              "0       PR-143-1167           1038\n",
              "1       PR-143-1153           1084\n",
              "2       PR-143-1178           1090\n",
              "3       PR-143-1102           1038\n",
              "4       PR-143-1168           1079\n",
              "...             ...            ...\n",
              "132183  PR-143-1159           1136\n",
              "132184  PR-143-1176            976\n",
              "132185  PR-143-1121           1099\n",
              "132186  PR-143-1161           1236\n",
              "132187  PR-143-1192            991\n",
              "\n",
              "[132188 rows x 2 columns]"
            ]
          },
          "metadata": {},
          "output_type": "display_data"
        }
      ],
      "source": [
        "df_new = df_excel_2[['product_code', 'selling_price']]\n",
        "#df_new=df_new.drop_duplicates(subset=['product_code'])\n",
        "df_new"
      ]
    },
    {
      "attachments": {},
      "cell_type": "markdown",
      "metadata": {},
      "source": [
        "**Merge left**"
      ]
    },
    {
      "cell_type": "code",
      "execution_count": null,
      "metadata": {},
      "outputs": [],
      "source": [
        "import pandas as pd\n",
        "df_order = pd.merge(df_order,df_new[['product_code','selling_price']],on='product_code', how='left')"
      ]
    },
    {
      "attachments": {},
      "cell_type": "markdown",
      "metadata": {},
      "source": [
        "<h1 style=\"color: #49BFCF;font-size:30px; font-family: serif;\">total_Amount</h1>\n",
        "Merge des dataframes afin de récupérer les prix de ventes\n",
        "\n",
        "On multiplie la colonne \"quantité\" par la colonne \"selling_price\".\n"
      ]
    },
    {
      "cell_type": "code",
      "execution_count": null,
      "metadata": {},
      "outputs": [
        {
          "data": {
            "text/html": [
              "<div>\n",
              "<style scoped>\n",
              "    .dataframe tbody tr th:only-of-type {\n",
              "        vertical-align: middle;\n",
              "    }\n",
              "\n",
              "    .dataframe tbody tr th {\n",
              "        vertical-align: top;\n",
              "    }\n",
              "\n",
              "    .dataframe thead th {\n",
              "        text-align: right;\n",
              "    }\n",
              "</style>\n",
              "<table border=\"1\" class=\"dataframe\">\n",
              "  <thead>\n",
              "    <tr style=\"text-align: right;\">\n",
              "      <th></th>\n",
              "      <th>order_no</th>\n",
              "      <th>order_date</th>\n",
              "      <th>agent_code</th>\n",
              "      <th>product_code</th>\n",
              "      <th>customer_code</th>\n",
              "      <th>quantity</th>\n",
              "      <th>warehouse_code</th>\n",
              "      <th>pl3</th>\n",
              "      <th>customer_satisfaction</th>\n",
              "      <th>selling_price</th>\n",
              "      <th>total_amount</th>\n",
              "    </tr>\n",
              "  </thead>\n",
              "  <tbody>\n",
              "    <tr>\n",
              "      <th>0</th>\n",
              "      <td>OR-481-532587</td>\n",
              "      <td>2023-01-05</td>\n",
              "      <td>AG-015</td>\n",
              "      <td>PR-143-1172</td>\n",
              "      <td>CU-001-1999</td>\n",
              "      <td>9</td>\n",
              "      <td>WH-001</td>\n",
              "      <td>3PL-001</td>\n",
              "      <td>4</td>\n",
              "      <td>1062</td>\n",
              "      <td>9558</td>\n",
              "    </tr>\n",
              "    <tr>\n",
              "      <th>1</th>\n",
              "      <td>OR-481-532588</td>\n",
              "      <td>2022-12-11</td>\n",
              "      <td>AG-028</td>\n",
              "      <td>PR-143-1112</td>\n",
              "      <td>CU-001-2973</td>\n",
              "      <td>6</td>\n",
              "      <td>WH-002</td>\n",
              "      <td>3PL-001</td>\n",
              "      <td>2</td>\n",
              "      <td>979</td>\n",
              "      <td>5874</td>\n",
              "    </tr>\n",
              "    <tr>\n",
              "      <th>2</th>\n",
              "      <td>OR-481-532589</td>\n",
              "      <td>2021-06-29</td>\n",
              "      <td>AG-015</td>\n",
              "      <td>PR-143-1142</td>\n",
              "      <td>CU-001-1662</td>\n",
              "      <td>2</td>\n",
              "      <td>WH-004</td>\n",
              "      <td>3PL-002</td>\n",
              "      <td>1</td>\n",
              "      <td>1230</td>\n",
              "      <td>2460</td>\n",
              "    </tr>\n",
              "    <tr>\n",
              "      <th>3</th>\n",
              "      <td>OR-481-532590</td>\n",
              "      <td>2021-03-07</td>\n",
              "      <td>AG-007</td>\n",
              "      <td>PR-143-1125</td>\n",
              "      <td>CU-001-2194</td>\n",
              "      <td>4</td>\n",
              "      <td>WH-001</td>\n",
              "      <td>3PL-004</td>\n",
              "      <td>5</td>\n",
              "      <td>976</td>\n",
              "      <td>3904</td>\n",
              "    </tr>\n",
              "    <tr>\n",
              "      <th>4</th>\n",
              "      <td>OR-481-532591</td>\n",
              "      <td>2021-11-22</td>\n",
              "      <td>AG-010</td>\n",
              "      <td>PR-143-1175</td>\n",
              "      <td>CU-001-2855</td>\n",
              "      <td>7</td>\n",
              "      <td>WH-003</td>\n",
              "      <td>3PL-004</td>\n",
              "      <td>1</td>\n",
              "      <td>1206</td>\n",
              "      <td>8442</td>\n",
              "    </tr>\n",
              "  </tbody>\n",
              "</table>\n",
              "</div>"
            ],
            "text/plain": [
              "        order_no  order_date agent_code product_code customer_code  quantity  \\\n",
              "0  OR-481-532587  2023-01-05     AG-015  PR-143-1172   CU-001-1999         9   \n",
              "1  OR-481-532588  2022-12-11     AG-028  PR-143-1112   CU-001-2973         6   \n",
              "2  OR-481-532589  2021-06-29     AG-015  PR-143-1142   CU-001-1662         2   \n",
              "3  OR-481-532590  2021-03-07     AG-007  PR-143-1125   CU-001-2194         4   \n",
              "4  OR-481-532591  2021-11-22     AG-010  PR-143-1175   CU-001-2855         7   \n",
              "\n",
              "  warehouse_code      pl3  customer_satisfaction  selling_price  total_amount  \n",
              "0         WH-001  3PL-001                      4           1062          9558  \n",
              "1         WH-002  3PL-001                      2            979          5874  \n",
              "2         WH-004  3PL-002                      1           1230          2460  \n",
              "3         WH-001  3PL-004                      5            976          3904  \n",
              "4         WH-003  3PL-004                      1           1206          8442  "
            ]
          },
          "execution_count": 26,
          "metadata": {},
          "output_type": "execute_result"
        }
      ],
      "source": [
        "df_order['total_amount'] = df_order['quantity']* df_order['selling_price']\n",
        "df_order.head()\n"
      ]
    },
    {
      "attachments": {},
      "cell_type": "markdown",
      "metadata": {},
      "source": [
        "<h1 style=\"color: #49BFCF;font-size:30px; font-family: serif;\">delivery_date</h1>\n",
        "\n",
        "<h1 style=\"color: #49BFCF;font-size:30px; font-family: serif;\">processing_date</h1>"
      ]
    },
    {
      "attachments": {},
      "cell_type": "markdown",
      "metadata": {},
      "source": [
        "Afin de créer ces colonnes, je souhaite connaitre la durée en jours entre dans notre fichier de base df_excel\n",
        "\n",
        "*   La date de commande et la date de livraison\n",
        "*   La date de commade et la date de traitement\n",
        "\n"
      ]
    },
    {
      "cell_type": "code",
      "execution_count": null,
      "metadata": {},
      "outputs": [],
      "source": [
        "df2= df_excel_2.copy()\n"
      ]
    },
    {
      "cell_type": "markdown",
      "metadata": {},
      "source": [
        "Définir le delais entre date de commande et date de livraison\n"
      ]
    },
    {
      "cell_type": "code",
      "execution_count": null,
      "metadata": {},
      "outputs": [
        {
          "data": {
            "text/plain": [
              "count                        132188\n",
              "mean     16 days 11:44:46.246860532\n",
              "std       3 days 12:05:06.808814283\n",
              "min                 9 days 00:00:00\n",
              "25%                14 days 00:00:00\n",
              "50%                16 days 00:00:00\n",
              "75%                19 days 00:00:00\n",
              "max                24 days 00:00:00\n",
              "Name: delta1, dtype: object"
            ]
          },
          "execution_count": 28,
          "metadata": {},
          "output_type": "execute_result"
        }
      ],
      "source": [
        "df2['delta1'] = df2['delivery_date']- df2['order_date']\n",
        "df2['delta1'].describe()"
      ]
    },
    {
      "cell_type": "markdown",
      "metadata": {},
      "source": [
        "La describe()méthode renvoie la description des données dans le DataFrame."
      ]
    },
    {
      "cell_type": "markdown",
      "metadata": {},
      "source": [
        "calcul du delta entre date order et processing date"
      ]
    },
    {
      "cell_type": "code",
      "execution_count": null,
      "metadata": {},
      "outputs": [
        {
          "data": {
            "text/plain": [
              "count                       132188\n",
              "mean     5 days 11:53:48.093321632\n",
              "std      2 days 20:56:12.137954503\n",
              "min                1 days 00:00:00\n",
              "25%                3 days 00:00:00\n",
              "50%                5 days 00:00:00\n",
              "75%                8 days 00:00:00\n",
              "max               10 days 00:00:00\n",
              "Name: delta2, dtype: object"
            ]
          },
          "execution_count": 30,
          "metadata": {},
          "output_type": "execute_result"
        }
      ],
      "source": [
        "df2['delta2'] = df2['processing_date']- df2['order_date']\n",
        "df2['delta2'].describe()"
      ]
    },
    {
      "cell_type": "code",
      "execution_count": null,
      "metadata": {},
      "outputs": [
        {
          "data": {
            "text/html": [
              "<div>\n",
              "<style scoped>\n",
              "    .dataframe tbody tr th:only-of-type {\n",
              "        vertical-align: middle;\n",
              "    }\n",
              "\n",
              "    .dataframe tbody tr th {\n",
              "        vertical-align: top;\n",
              "    }\n",
              "\n",
              "    .dataframe thead th {\n",
              "        text-align: right;\n",
              "    }\n",
              "</style>\n",
              "<table border=\"1\" class=\"dataframe\">\n",
              "  <thead>\n",
              "    <tr style=\"text-align: right;\">\n",
              "      <th></th>\n",
              "      <th>order_no</th>\n",
              "      <th>order_date</th>\n",
              "      <th>agent_code</th>\n",
              "      <th>product_code</th>\n",
              "      <th>customer_code</th>\n",
              "      <th>quantity</th>\n",
              "      <th>warehouse_code</th>\n",
              "      <th>pl3</th>\n",
              "      <th>customer_satisfaction</th>\n",
              "      <th>selling_price</th>\n",
              "      <th>total_amount</th>\n",
              "      <th>delivery_date</th>\n",
              "      <th>processing_date</th>\n",
              "    </tr>\n",
              "  </thead>\n",
              "  <tbody>\n",
              "    <tr>\n",
              "      <th>0</th>\n",
              "      <td>OR-481-532587</td>\n",
              "      <td>2023-01-05</td>\n",
              "      <td>AG-015</td>\n",
              "      <td>PR-143-1172</td>\n",
              "      <td>CU-001-1999</td>\n",
              "      <td>9</td>\n",
              "      <td>WH-001</td>\n",
              "      <td>3PL-001</td>\n",
              "      <td>4</td>\n",
              "      <td>1062</td>\n",
              "      <td>9558</td>\n",
              "      <td>2023-01-28</td>\n",
              "      <td>2023-01-09</td>\n",
              "    </tr>\n",
              "    <tr>\n",
              "      <th>1</th>\n",
              "      <td>OR-481-532588</td>\n",
              "      <td>2022-12-11</td>\n",
              "      <td>AG-028</td>\n",
              "      <td>PR-143-1112</td>\n",
              "      <td>CU-001-2973</td>\n",
              "      <td>6</td>\n",
              "      <td>WH-002</td>\n",
              "      <td>3PL-001</td>\n",
              "      <td>2</td>\n",
              "      <td>979</td>\n",
              "      <td>5874</td>\n",
              "      <td>2023-01-03</td>\n",
              "      <td>2022-12-15</td>\n",
              "    </tr>\n",
              "    <tr>\n",
              "      <th>2</th>\n",
              "      <td>OR-481-532589</td>\n",
              "      <td>2021-06-29</td>\n",
              "      <td>AG-015</td>\n",
              "      <td>PR-143-1142</td>\n",
              "      <td>CU-001-1662</td>\n",
              "      <td>2</td>\n",
              "      <td>WH-004</td>\n",
              "      <td>3PL-002</td>\n",
              "      <td>1</td>\n",
              "      <td>1230</td>\n",
              "      <td>2460</td>\n",
              "      <td>2021-07-22</td>\n",
              "      <td>2021-07-03</td>\n",
              "    </tr>\n",
              "    <tr>\n",
              "      <th>3</th>\n",
              "      <td>OR-481-532590</td>\n",
              "      <td>2021-03-07</td>\n",
              "      <td>AG-007</td>\n",
              "      <td>PR-143-1125</td>\n",
              "      <td>CU-001-2194</td>\n",
              "      <td>4</td>\n",
              "      <td>WH-001</td>\n",
              "      <td>3PL-004</td>\n",
              "      <td>5</td>\n",
              "      <td>976</td>\n",
              "      <td>3904</td>\n",
              "      <td>2021-03-30</td>\n",
              "      <td>2021-03-11</td>\n",
              "    </tr>\n",
              "    <tr>\n",
              "      <th>4</th>\n",
              "      <td>OR-481-532591</td>\n",
              "      <td>2021-11-22</td>\n",
              "      <td>AG-010</td>\n",
              "      <td>PR-143-1175</td>\n",
              "      <td>CU-001-2855</td>\n",
              "      <td>7</td>\n",
              "      <td>WH-003</td>\n",
              "      <td>3PL-004</td>\n",
              "      <td>1</td>\n",
              "      <td>1206</td>\n",
              "      <td>8442</td>\n",
              "      <td>2021-12-15</td>\n",
              "      <td>2021-11-26</td>\n",
              "    </tr>\n",
              "  </tbody>\n",
              "</table>\n",
              "</div>"
            ],
            "text/plain": [
              "        order_no  order_date agent_code product_code customer_code  quantity  \\\n",
              "0  OR-481-532587  2023-01-05     AG-015  PR-143-1172   CU-001-1999         9   \n",
              "1  OR-481-532588  2022-12-11     AG-028  PR-143-1112   CU-001-2973         6   \n",
              "2  OR-481-532589  2021-06-29     AG-015  PR-143-1142   CU-001-1662         2   \n",
              "3  OR-481-532590  2021-03-07     AG-007  PR-143-1125   CU-001-2194         4   \n",
              "4  OR-481-532591  2021-11-22     AG-010  PR-143-1175   CU-001-2855         7   \n",
              "\n",
              "  warehouse_code      pl3  customer_satisfaction  selling_price  total_amount  \\\n",
              "0         WH-001  3PL-001                      4           1062          9558   \n",
              "1         WH-002  3PL-001                      2            979          5874   \n",
              "2         WH-004  3PL-002                      1           1230          2460   \n",
              "3         WH-001  3PL-004                      5            976          3904   \n",
              "4         WH-003  3PL-004                      1           1206          8442   \n",
              "\n",
              "  delivery_date processing_date  \n",
              "0    2023-01-28      2023-01-09  \n",
              "1    2023-01-03      2022-12-15  \n",
              "2    2021-07-22      2021-07-03  \n",
              "3    2021-03-30      2021-03-11  \n",
              "4    2021-12-15      2021-11-26  "
            ]
          },
          "execution_count": 31,
          "metadata": {},
          "output_type": "execute_result"
        }
      ],
      "source": [
        "import time\n",
        "from datetime import datetime, timedelta, date, time\n",
        "\n",
        "# colonne 'delivery_date'\n",
        "\n",
        "df_order['delivery_date'] = (pd.to_datetime(df_order['order_date']) + timedelta(random.randint(9,24)))\n",
        "\n",
        "# colonne 'processing_date'\n",
        "df_order['processing_date'] = (pd.to_datetime(df_order['order_date']) + timedelta(random.randint(1,10)))\n",
        "df_order.head()"
      ]
    },
    {
      "cell_type": "code",
      "execution_count": null,
      "metadata": {},
      "outputs": [
        {
          "data": {
            "text/plain": [
              "order_no                         object\n",
              "order_date                       object\n",
              "agent_code                       object\n",
              "product_code                     object\n",
              "customer_code                    object\n",
              "quantity                          int64\n",
              "warehouse_code                   object\n",
              "pl3                              object\n",
              "customer_satisfaction             int64\n",
              "selling_price                     int64\n",
              "total_amount                      int64\n",
              "delivery_date            datetime64[ns]\n",
              "processing_date          datetime64[ns]\n",
              "dtype: object"
            ]
          },
          "execution_count": 35,
          "metadata": {},
          "output_type": "execute_result"
        }
      ],
      "source": [
        "df_order.dtypes"
      ]
    },
    {
      "cell_type": "code",
      "execution_count": null,
      "metadata": {},
      "outputs": [],
      "source": [
        "df_order['order_date'] = df_order['order_date'].astype('datetime64')\n"
      ]
    },
    {
      "attachments": {},
      "cell_type": "markdown",
      "metadata": {},
      "source": [
        "\n",
        "<h1 style=\"color: #49BFCF;font-size:30px; font-family: serif;\">Changer l'ordre des colonnes</h1>\n",
        "\n",
        "Using loc method"
      ]
    },
    {
      "cell_type": "code",
      "execution_count": null,
      "metadata": {},
      "outputs": [
        {
          "data": {
            "text/plain": [
              "Index(['order_no', 'order_date', 'agent_code', 'product_code', 'customer_code',\n",
              "       'quantity', 'warehouse_code', 'pl3', 'customer_satisfaction',\n",
              "       'selling_price', 'total_amount', 'delivery_date', 'processing_date'],\n",
              "      dtype='object')"
            ]
          },
          "execution_count": 37,
          "metadata": {},
          "output_type": "execute_result"
        }
      ],
      "source": [
        "df_order.columns"
      ]
    },
    {
      "cell_type": "code",
      "execution_count": null,
      "metadata": {},
      "outputs": [
        {
          "data": {
            "text/html": [
              "<div>\n",
              "<style scoped>\n",
              "    .dataframe tbody tr th:only-of-type {\n",
              "        vertical-align: middle;\n",
              "    }\n",
              "\n",
              "    .dataframe tbody tr th {\n",
              "        vertical-align: top;\n",
              "    }\n",
              "\n",
              "    .dataframe thead th {\n",
              "        text-align: right;\n",
              "    }\n",
              "</style>\n",
              "<table border=\"1\" class=\"dataframe\">\n",
              "  <thead>\n",
              "    <tr style=\"text-align: right;\">\n",
              "      <th></th>\n",
              "      <th>order_no</th>\n",
              "      <th>order_date</th>\n",
              "      <th>agent_code</th>\n",
              "      <th>product_code</th>\n",
              "      <th>customer_code</th>\n",
              "      <th>quantity</th>\n",
              "      <th>warehouse_code</th>\n",
              "      <th>pl3</th>\n",
              "      <th>customer_satisfaction</th>\n",
              "      <th>selling_price</th>\n",
              "      <th>total_amount</th>\n",
              "      <th>delivery_date</th>\n",
              "      <th>processing_date</th>\n",
              "    </tr>\n",
              "  </thead>\n",
              "  <tbody>\n",
              "    <tr>\n",
              "      <th>0</th>\n",
              "      <td>OR-481-532587</td>\n",
              "      <td>2023-01-05</td>\n",
              "      <td>AG-015</td>\n",
              "      <td>PR-143-1172</td>\n",
              "      <td>CU-001-1999</td>\n",
              "      <td>9</td>\n",
              "      <td>WH-001</td>\n",
              "      <td>3PL-001</td>\n",
              "      <td>4</td>\n",
              "      <td>1062</td>\n",
              "      <td>9558</td>\n",
              "      <td>2023-01-28</td>\n",
              "      <td>2023-01-09</td>\n",
              "    </tr>\n",
              "    <tr>\n",
              "      <th>1</th>\n",
              "      <td>OR-481-532588</td>\n",
              "      <td>2022-12-11</td>\n",
              "      <td>AG-028</td>\n",
              "      <td>PR-143-1112</td>\n",
              "      <td>CU-001-2973</td>\n",
              "      <td>6</td>\n",
              "      <td>WH-002</td>\n",
              "      <td>3PL-001</td>\n",
              "      <td>2</td>\n",
              "      <td>979</td>\n",
              "      <td>5874</td>\n",
              "      <td>2023-01-03</td>\n",
              "      <td>2022-12-15</td>\n",
              "    </tr>\n",
              "    <tr>\n",
              "      <th>2</th>\n",
              "      <td>OR-481-532589</td>\n",
              "      <td>2021-06-29</td>\n",
              "      <td>AG-015</td>\n",
              "      <td>PR-143-1142</td>\n",
              "      <td>CU-001-1662</td>\n",
              "      <td>2</td>\n",
              "      <td>WH-004</td>\n",
              "      <td>3PL-002</td>\n",
              "      <td>1</td>\n",
              "      <td>1230</td>\n",
              "      <td>2460</td>\n",
              "      <td>2021-07-22</td>\n",
              "      <td>2021-07-03</td>\n",
              "    </tr>\n",
              "    <tr>\n",
              "      <th>3</th>\n",
              "      <td>OR-481-532590</td>\n",
              "      <td>2021-03-07</td>\n",
              "      <td>AG-007</td>\n",
              "      <td>PR-143-1125</td>\n",
              "      <td>CU-001-2194</td>\n",
              "      <td>4</td>\n",
              "      <td>WH-001</td>\n",
              "      <td>3PL-004</td>\n",
              "      <td>5</td>\n",
              "      <td>976</td>\n",
              "      <td>3904</td>\n",
              "      <td>2021-03-30</td>\n",
              "      <td>2021-03-11</td>\n",
              "    </tr>\n",
              "    <tr>\n",
              "      <th>4</th>\n",
              "      <td>OR-481-532591</td>\n",
              "      <td>2021-11-22</td>\n",
              "      <td>AG-010</td>\n",
              "      <td>PR-143-1175</td>\n",
              "      <td>CU-001-2855</td>\n",
              "      <td>7</td>\n",
              "      <td>WH-003</td>\n",
              "      <td>3PL-004</td>\n",
              "      <td>1</td>\n",
              "      <td>1206</td>\n",
              "      <td>8442</td>\n",
              "      <td>2021-12-15</td>\n",
              "      <td>2021-11-26</td>\n",
              "    </tr>\n",
              "  </tbody>\n",
              "</table>\n",
              "</div>"
            ],
            "text/plain": [
              "        order_no order_date agent_code product_code customer_code  quantity  \\\n",
              "0  OR-481-532587 2023-01-05     AG-015  PR-143-1172   CU-001-1999         9   \n",
              "1  OR-481-532588 2022-12-11     AG-028  PR-143-1112   CU-001-2973         6   \n",
              "2  OR-481-532589 2021-06-29     AG-015  PR-143-1142   CU-001-1662         2   \n",
              "3  OR-481-532590 2021-03-07     AG-007  PR-143-1125   CU-001-2194         4   \n",
              "4  OR-481-532591 2021-11-22     AG-010  PR-143-1175   CU-001-2855         7   \n",
              "\n",
              "  warehouse_code      pl3  customer_satisfaction  selling_price  total_amount  \\\n",
              "0         WH-001  3PL-001                      4           1062          9558   \n",
              "1         WH-002  3PL-001                      2            979          5874   \n",
              "2         WH-004  3PL-002                      1           1230          2460   \n",
              "3         WH-001  3PL-004                      5            976          3904   \n",
              "4         WH-003  3PL-004                      1           1206          8442   \n",
              "\n",
              "  delivery_date processing_date  \n",
              "0    2023-01-28      2023-01-09  \n",
              "1    2023-01-03      2022-12-15  \n",
              "2    2021-07-22      2021-07-03  \n",
              "3    2021-03-30      2021-03-11  \n",
              "4    2021-12-15      2021-11-26  "
            ]
          },
          "execution_count": 38,
          "metadata": {},
          "output_type": "execute_result"
        }
      ],
      "source": [
        "df1=df_order.loc[:,['order_no', 'order_date', 'processing_date','agent_code', 'customer_code','product_code', \n",
        "       'quantity', 'selling_price','total_amount' ,'warehouse_code', 'pl3'\n",
        "       , 'delivery_date', 'customer_satisfaction'\n",
        "       ]]\n",
        "df_order.head()"
      ]
    },
    {
      "attachments": {},
      "cell_type": "markdown",
      "metadata": {},
      "source": [
        "<h1 style=\"color: #49BFCF;font-size:30px; font-family: serif;\">joindre les dataframe</h1>\n"
      ]
    },
    {
      "cell_type": "code",
      "execution_count": null,
      "metadata": {},
      "outputs": [],
      "source": [
        "df_order = pd.concat([df_excel,df_order], axis=0)"
      ]
    },
    {
      "cell_type": "code",
      "execution_count": null,
      "metadata": {},
      "outputs": [
        {
          "data": {
            "text/plain": [
              "(532188, 13)"
            ]
          },
          "execution_count": 41,
          "metadata": {},
          "output_type": "execute_result"
        }
      ],
      "source": [
        "df_order.shape"
      ]
    },
    {
      "attachments": {},
      "cell_type": "markdown",
      "metadata": {},
      "source": [
        "<h1 style=\"color: #49BFCF;font-size:30px; font-family: serif;\">Enregistrement dans fichier excel existant sans les index</h1>\n"
      ]
    },
    {
      "cell_type": "code",
      "execution_count": null,
      "metadata": {},
      "outputs": [],
      "source": [
        "with pd.ExcelWriter('compagny_data.xlsx',\n",
        "                  mode='a') as writer:\n",
        "\n",
        "      df_order.to_excel(writer, sheet_name='order_faker', index=False)"
      ]
    },
    {
      "attachments": {},
      "cell_type": "markdown",
      "metadata": {},
      "source": [
        "<h1 style=\"color: #49BFCF;font-size:30px; font-family: serif;\">Enregistrement au format csv</h1>"
      ]
    },
    {
      "cell_type": "code",
      "execution_count": null,
      "metadata": {},
      "outputs": [],
      "source": [
        "df_order.to_csv('order_faker.csv')"
      ]
    }
  ],
  "metadata": {
    "colab": {
      "provenance": []
    },
    "kernelspec": {
      "display_name": "Python 3",
      "name": "python3"
    },
    "language_info": {
      "codemirror_mode": {
        "name": "ipython",
        "version": 3
      },
      "file_extension": ".py",
      "mimetype": "text/x-python",
      "name": "python",
      "nbconvert_exporter": "python",
      "pygments_lexer": "ipython3",
      "version": "3.10.8"
    }
  },
  "nbformat": 4,
  "nbformat_minor": 0
}
